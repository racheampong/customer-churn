{
  "nbformat": 4,
  "nbformat_minor": 0,
  "metadata": {
    "colab": {
      "name": "starter_notebook_-_UmojaHack_Ghana.ipynb",
      "provenance": [],
      "collapsed_sections": []
    },
    "kernelspec": {
      "display_name": "Python 3",
      "language": "python",
      "name": "python3"
    },
    "language_info": {
      "codemirror_mode": {
        "name": "ipython",
        "version": 3
      },
      "file_extension": ".py",
      "mimetype": "text/x-python",
      "name": "python",
      "nbconvert_exporter": "python",
      "pygments_lexer": "ipython3",
      "version": "3.8.2"
    }
  },
  "cells": [
    {
      "cell_type": "code",
      "metadata": {
        "id": "cJd4YEboGAmL"
      },
      "source": [
        "#Import some libraries\n",
        "import pandas as pd\n",
        "import numpy as np\n",
        "import matplotlib.pyplot as plt\n",
        "from pylab import rcParams\n",
        "import seaborn as sb\n",
        "import io\n",
        "sb.set_style('darkgrid')\n",
        "rcParams['figure.figsize'] = 8,8\n",
        "import warnings\n",
        "warnings.filterwarnings(\"ignore\")\n",
        "%matplotlib inline"
      ],
      "execution_count": null,
      "outputs": []
    },
    {
      "cell_type": "code",
      "metadata": {
        "id": "GXQboiLKGAmn",
        "colab": {
          "base_uri": "https://localhost:8080/"
        },
        "outputId": "efd645ef-5cbb-48e7-eac1-7f7fbf0c6531"
      },
      "source": [
        "from google.colab import drive\n",
        "drive.mount('/content/drive')"
      ],
      "execution_count": null,
      "outputs": [
        {
          "output_type": "stream",
          "text": [
            "Mounted at /content/drive\n"
          ],
          "name": "stdout"
        }
      ]
    },
    {
      "cell_type": "code",
      "metadata": {
        "id": "8KPajqLMRVXo"
      },
      "source": [
        "train = pd.read_csv('/content/drive/My Drive/umoja/Train.csv')\n",
        "test = pd.read_csv('/content/drive/My Drive/umoja/Test.csv')\n",
        "submission = pd.read_csv('/content/drive/My Drive/umoja/SampleSubmission.csv')"
      ],
      "execution_count": null,
      "outputs": []
    },
    {
      "cell_type": "code",
      "metadata": {
        "colab": {
          "base_uri": "https://localhost:8080/",
          "height": 305
        },
        "id": "NzdkmhuVGAm7",
        "outputId": "a1b26473-ee19-412c-d3b5-2cc54571d7df"
      },
      "source": [
        "train.head()"
      ],
      "execution_count": null,
      "outputs": [
        {
          "output_type": "execute_result",
          "data": {
            "text/html": [
              "<div>\n",
              "<style scoped>\n",
              "    .dataframe tbody tr th:only-of-type {\n",
              "        vertical-align: middle;\n",
              "    }\n",
              "\n",
              "    .dataframe tbody tr th {\n",
              "        vertical-align: top;\n",
              "    }\n",
              "\n",
              "    .dataframe thead th {\n",
              "        text-align: right;\n",
              "    }\n",
              "</style>\n",
              "<table border=\"1\" class=\"dataframe\">\n",
              "  <thead>\n",
              "    <tr style=\"text-align: right;\">\n",
              "      <th></th>\n",
              "      <th>user_id</th>\n",
              "      <th>REGION</th>\n",
              "      <th>TENURE</th>\n",
              "      <th>MONTANT</th>\n",
              "      <th>FREQUENCE_RECH</th>\n",
              "      <th>REVENUE</th>\n",
              "      <th>ARPU_SEGMENT</th>\n",
              "      <th>FREQUENCE</th>\n",
              "      <th>DATA_VOLUME</th>\n",
              "      <th>ON_NET</th>\n",
              "      <th>ORANGE</th>\n",
              "      <th>TIGO</th>\n",
              "      <th>ZONE1</th>\n",
              "      <th>ZONE2</th>\n",
              "      <th>MRG</th>\n",
              "      <th>REGULARITY</th>\n",
              "      <th>TOP_PACK</th>\n",
              "      <th>FREQ_TOP_PACK</th>\n",
              "      <th>CHURN</th>\n",
              "    </tr>\n",
              "  </thead>\n",
              "  <tbody>\n",
              "    <tr>\n",
              "      <th>0</th>\n",
              "      <td>00000bfd7d50f01092811bc0c8d7b0d6fe7c3596</td>\n",
              "      <td>FATICK</td>\n",
              "      <td>K &gt; 24 month</td>\n",
              "      <td>4250.0</td>\n",
              "      <td>15.0</td>\n",
              "      <td>4251.0</td>\n",
              "      <td>1417.0</td>\n",
              "      <td>17.0</td>\n",
              "      <td>4.0</td>\n",
              "      <td>388.0</td>\n",
              "      <td>46.0</td>\n",
              "      <td>1.0</td>\n",
              "      <td>1.0</td>\n",
              "      <td>2.0</td>\n",
              "      <td>NO</td>\n",
              "      <td>54</td>\n",
              "      <td>On net 200F=Unlimited _call24H</td>\n",
              "      <td>8.0</td>\n",
              "      <td>0</td>\n",
              "    </tr>\n",
              "    <tr>\n",
              "      <th>1</th>\n",
              "      <td>00000cb4a5d760de88fecb38e2f71b7bec52e834</td>\n",
              "      <td>NaN</td>\n",
              "      <td>I 18-21 month</td>\n",
              "      <td>NaN</td>\n",
              "      <td>NaN</td>\n",
              "      <td>NaN</td>\n",
              "      <td>NaN</td>\n",
              "      <td>NaN</td>\n",
              "      <td>NaN</td>\n",
              "      <td>NaN</td>\n",
              "      <td>NaN</td>\n",
              "      <td>NaN</td>\n",
              "      <td>NaN</td>\n",
              "      <td>NaN</td>\n",
              "      <td>NO</td>\n",
              "      <td>4</td>\n",
              "      <td>NaN</td>\n",
              "      <td>NaN</td>\n",
              "      <td>1</td>\n",
              "    </tr>\n",
              "    <tr>\n",
              "      <th>2</th>\n",
              "      <td>00001654a9d9f96303d9969d0a4a851714a4bb57</td>\n",
              "      <td>NaN</td>\n",
              "      <td>K &gt; 24 month</td>\n",
              "      <td>3600.0</td>\n",
              "      <td>2.0</td>\n",
              "      <td>1020.0</td>\n",
              "      <td>340.0</td>\n",
              "      <td>2.0</td>\n",
              "      <td>NaN</td>\n",
              "      <td>90.0</td>\n",
              "      <td>46.0</td>\n",
              "      <td>7.0</td>\n",
              "      <td>NaN</td>\n",
              "      <td>NaN</td>\n",
              "      <td>NO</td>\n",
              "      <td>17</td>\n",
              "      <td>On-net 1000F=10MilF;10d</td>\n",
              "      <td>1.0</td>\n",
              "      <td>0</td>\n",
              "    </tr>\n",
              "    <tr>\n",
              "      <th>3</th>\n",
              "      <td>00001dd6fa45f7ba044bd5d84937be464ce78ac2</td>\n",
              "      <td>DAKAR</td>\n",
              "      <td>K &gt; 24 month</td>\n",
              "      <td>13500.0</td>\n",
              "      <td>15.0</td>\n",
              "      <td>13502.0</td>\n",
              "      <td>4501.0</td>\n",
              "      <td>18.0</td>\n",
              "      <td>43804.0</td>\n",
              "      <td>41.0</td>\n",
              "      <td>102.0</td>\n",
              "      <td>2.0</td>\n",
              "      <td>NaN</td>\n",
              "      <td>NaN</td>\n",
              "      <td>NO</td>\n",
              "      <td>62</td>\n",
              "      <td>Data:1000F=5GB,7d</td>\n",
              "      <td>11.0</td>\n",
              "      <td>0</td>\n",
              "    </tr>\n",
              "    <tr>\n",
              "      <th>4</th>\n",
              "      <td>000028d9e13a595abe061f9b58f3d76ab907850f</td>\n",
              "      <td>DAKAR</td>\n",
              "      <td>K &gt; 24 month</td>\n",
              "      <td>1000.0</td>\n",
              "      <td>1.0</td>\n",
              "      <td>985.0</td>\n",
              "      <td>328.0</td>\n",
              "      <td>1.0</td>\n",
              "      <td>NaN</td>\n",
              "      <td>39.0</td>\n",
              "      <td>24.0</td>\n",
              "      <td>NaN</td>\n",
              "      <td>NaN</td>\n",
              "      <td>NaN</td>\n",
              "      <td>NO</td>\n",
              "      <td>11</td>\n",
              "      <td>Mixt 250F=Unlimited_call24H</td>\n",
              "      <td>2.0</td>\n",
              "      <td>0</td>\n",
              "    </tr>\n",
              "  </tbody>\n",
              "</table>\n",
              "</div>"
            ],
            "text/plain": [
              "                                    user_id  REGION  ... FREQ_TOP_PACK  CHURN\n",
              "0  00000bfd7d50f01092811bc0c8d7b0d6fe7c3596  FATICK  ...           8.0      0\n",
              "1  00000cb4a5d760de88fecb38e2f71b7bec52e834     NaN  ...           NaN      1\n",
              "2  00001654a9d9f96303d9969d0a4a851714a4bb57     NaN  ...           1.0      0\n",
              "3  00001dd6fa45f7ba044bd5d84937be464ce78ac2   DAKAR  ...          11.0      0\n",
              "4  000028d9e13a595abe061f9b58f3d76ab907850f   DAKAR  ...           2.0      0\n",
              "\n",
              "[5 rows x 19 columns]"
            ]
          },
          "metadata": {
            "tags": []
          },
          "execution_count": 5
        }
      ]
    },
    {
      "cell_type": "markdown",
      "metadata": {
        "id": "4AaEPuEIGqy3"
      },
      "source": [
        "# New Section"
      ]
    },
    {
      "cell_type": "code",
      "metadata": {
        "colab": {
          "base_uri": "https://localhost:8080/",
          "height": 305
        },
        "id": "Er0cnWo9GAnU",
        "outputId": "27605626-9e8c-4bb0-8393-f66039bb655f"
      },
      "source": [
        "train.tail()"
      ],
      "execution_count": null,
      "outputs": [
        {
          "output_type": "execute_result",
          "data": {
            "text/html": [
              "<div>\n",
              "<style scoped>\n",
              "    .dataframe tbody tr th:only-of-type {\n",
              "        vertical-align: middle;\n",
              "    }\n",
              "\n",
              "    .dataframe tbody tr th {\n",
              "        vertical-align: top;\n",
              "    }\n",
              "\n",
              "    .dataframe thead th {\n",
              "        text-align: right;\n",
              "    }\n",
              "</style>\n",
              "<table border=\"1\" class=\"dataframe\">\n",
              "  <thead>\n",
              "    <tr style=\"text-align: right;\">\n",
              "      <th></th>\n",
              "      <th>user_id</th>\n",
              "      <th>REGION</th>\n",
              "      <th>TENURE</th>\n",
              "      <th>MONTANT</th>\n",
              "      <th>FREQUENCE_RECH</th>\n",
              "      <th>REVENUE</th>\n",
              "      <th>ARPU_SEGMENT</th>\n",
              "      <th>FREQUENCE</th>\n",
              "      <th>DATA_VOLUME</th>\n",
              "      <th>ON_NET</th>\n",
              "      <th>ORANGE</th>\n",
              "      <th>TIGO</th>\n",
              "      <th>ZONE1</th>\n",
              "      <th>ZONE2</th>\n",
              "      <th>MRG</th>\n",
              "      <th>REGULARITY</th>\n",
              "      <th>TOP_PACK</th>\n",
              "      <th>FREQ_TOP_PACK</th>\n",
              "      <th>CHURN</th>\n",
              "    </tr>\n",
              "  </thead>\n",
              "  <tbody>\n",
              "    <tr>\n",
              "      <th>2154043</th>\n",
              "      <td>ffffe85215ddc71a84f95af0afb0deeea90e6967</td>\n",
              "      <td>NaN</td>\n",
              "      <td>K &gt; 24 month</td>\n",
              "      <td>NaN</td>\n",
              "      <td>NaN</td>\n",
              "      <td>NaN</td>\n",
              "      <td>NaN</td>\n",
              "      <td>NaN</td>\n",
              "      <td>NaN</td>\n",
              "      <td>NaN</td>\n",
              "      <td>NaN</td>\n",
              "      <td>NaN</td>\n",
              "      <td>NaN</td>\n",
              "      <td>NaN</td>\n",
              "      <td>NO</td>\n",
              "      <td>6</td>\n",
              "      <td>NaN</td>\n",
              "      <td>NaN</td>\n",
              "      <td>0</td>\n",
              "    </tr>\n",
              "    <tr>\n",
              "      <th>2154044</th>\n",
              "      <td>ffffeaaa9289cdba0ac000f0ab4b48f4aa74ed15</td>\n",
              "      <td>THIES</td>\n",
              "      <td>K &gt; 24 month</td>\n",
              "      <td>6100.0</td>\n",
              "      <td>15.0</td>\n",
              "      <td>5800.0</td>\n",
              "      <td>1933.0</td>\n",
              "      <td>15.0</td>\n",
              "      <td>621.0</td>\n",
              "      <td>26.0</td>\n",
              "      <td>40.0</td>\n",
              "      <td>40.0</td>\n",
              "      <td>NaN</td>\n",
              "      <td>NaN</td>\n",
              "      <td>NO</td>\n",
              "      <td>55</td>\n",
              "      <td>Data: 200 F=100MB,24H</td>\n",
              "      <td>9.0</td>\n",
              "      <td>0</td>\n",
              "    </tr>\n",
              "    <tr>\n",
              "      <th>2154045</th>\n",
              "      <td>fffff172fda1b4bb38a95385951908bb92379809</td>\n",
              "      <td>NaN</td>\n",
              "      <td>K &gt; 24 month</td>\n",
              "      <td>NaN</td>\n",
              "      <td>NaN</td>\n",
              "      <td>NaN</td>\n",
              "      <td>NaN</td>\n",
              "      <td>NaN</td>\n",
              "      <td>NaN</td>\n",
              "      <td>NaN</td>\n",
              "      <td>NaN</td>\n",
              "      <td>NaN</td>\n",
              "      <td>NaN</td>\n",
              "      <td>NaN</td>\n",
              "      <td>NO</td>\n",
              "      <td>1</td>\n",
              "      <td>NaN</td>\n",
              "      <td>NaN</td>\n",
              "      <td>1</td>\n",
              "    </tr>\n",
              "    <tr>\n",
              "      <th>2154046</th>\n",
              "      <td>fffff5911296937a37f09a37a549da2e0dad6dbb</td>\n",
              "      <td>THIES</td>\n",
              "      <td>K &gt; 24 month</td>\n",
              "      <td>10000.0</td>\n",
              "      <td>11.0</td>\n",
              "      <td>7120.0</td>\n",
              "      <td>2373.0</td>\n",
              "      <td>13.0</td>\n",
              "      <td>NaN</td>\n",
              "      <td>0.0</td>\n",
              "      <td>140.0</td>\n",
              "      <td>13.0</td>\n",
              "      <td>NaN</td>\n",
              "      <td>NaN</td>\n",
              "      <td>NO</td>\n",
              "      <td>28</td>\n",
              "      <td>All-net 500F=2000F;5d</td>\n",
              "      <td>12.0</td>\n",
              "      <td>0</td>\n",
              "    </tr>\n",
              "    <tr>\n",
              "      <th>2154047</th>\n",
              "      <td>fffff6dbff1508ea2bfe814e5ab2729ce6b788c2</td>\n",
              "      <td>NaN</td>\n",
              "      <td>K &gt; 24 month</td>\n",
              "      <td>NaN</td>\n",
              "      <td>NaN</td>\n",
              "      <td>NaN</td>\n",
              "      <td>NaN</td>\n",
              "      <td>NaN</td>\n",
              "      <td>2.0</td>\n",
              "      <td>NaN</td>\n",
              "      <td>NaN</td>\n",
              "      <td>NaN</td>\n",
              "      <td>NaN</td>\n",
              "      <td>NaN</td>\n",
              "      <td>NO</td>\n",
              "      <td>62</td>\n",
              "      <td>NaN</td>\n",
              "      <td>NaN</td>\n",
              "      <td>1</td>\n",
              "    </tr>\n",
              "  </tbody>\n",
              "</table>\n",
              "</div>"
            ],
            "text/plain": [
              "                                          user_id REGION  ... FREQ_TOP_PACK  CHURN\n",
              "2154043  ffffe85215ddc71a84f95af0afb0deeea90e6967    NaN  ...           NaN      0\n",
              "2154044  ffffeaaa9289cdba0ac000f0ab4b48f4aa74ed15  THIES  ...           9.0      0\n",
              "2154045  fffff172fda1b4bb38a95385951908bb92379809    NaN  ...           NaN      1\n",
              "2154046  fffff5911296937a37f09a37a549da2e0dad6dbb  THIES  ...          12.0      0\n",
              "2154047  fffff6dbff1508ea2bfe814e5ab2729ce6b788c2    NaN  ...           NaN      1\n",
              "\n",
              "[5 rows x 19 columns]"
            ]
          },
          "metadata": {
            "tags": []
          },
          "execution_count": 6
        }
      ]
    },
    {
      "cell_type": "code",
      "metadata": {
        "colab": {
          "base_uri": "https://localhost:8080/"
        },
        "id": "MyV_SDPOGAnp",
        "outputId": "d35b97a5-344c-484f-9223-88d487389666"
      },
      "source": [
        "train.shape"
      ],
      "execution_count": null,
      "outputs": [
        {
          "output_type": "execute_result",
          "data": {
            "text/plain": [
              "(2154048, 19)"
            ]
          },
          "metadata": {
            "tags": []
          },
          "execution_count": 9
        }
      ]
    },
    {
      "cell_type": "code",
      "metadata": {
        "colab": {
          "base_uri": "https://localhost:8080/"
        },
        "id": "4_OYmbDYGAn8",
        "outputId": "7ace33d0-7eae-4087-f08f-d55df15fce11"
      },
      "source": [
        "#view the data types in the train data\n",
        "train.info()"
      ],
      "execution_count": null,
      "outputs": [
        {
          "output_type": "stream",
          "text": [
            "<class 'pandas.core.frame.DataFrame'>\n",
            "RangeIndex: 2154048 entries, 0 to 2154047\n",
            "Data columns (total 19 columns):\n",
            " #   Column          Dtype  \n",
            "---  ------          -----  \n",
            " 0   user_id         object \n",
            " 1   REGION          object \n",
            " 2   TENURE          object \n",
            " 3   MONTANT         float64\n",
            " 4   FREQUENCE_RECH  float64\n",
            " 5   REVENUE         float64\n",
            " 6   ARPU_SEGMENT    float64\n",
            " 7   FREQUENCE       float64\n",
            " 8   DATA_VOLUME     float64\n",
            " 9   ON_NET          float64\n",
            " 10  ORANGE          float64\n",
            " 11  TIGO            float64\n",
            " 12  ZONE1           float64\n",
            " 13  ZONE2           float64\n",
            " 14  MRG             object \n",
            " 15  REGULARITY      int64  \n",
            " 16  TOP_PACK        object \n",
            " 17  FREQ_TOP_PACK   float64\n",
            " 18  CHURN           int64  \n",
            "dtypes: float64(12), int64(2), object(5)\n",
            "memory usage: 312.2+ MB\n"
          ],
          "name": "stdout"
        }
      ]
    },
    {
      "cell_type": "code",
      "metadata": {
        "colab": {
          "base_uri": "https://localhost:8080/",
          "height": 305
        },
        "id": "UXIPmML2GAoc",
        "outputId": "3e293bf0-5c0e-491f-cc02-0acf31c45a1d"
      },
      "source": [
        "test.head()"
      ],
      "execution_count": null,
      "outputs": [
        {
          "output_type": "execute_result",
          "data": {
            "text/html": [
              "<div>\n",
              "<style scoped>\n",
              "    .dataframe tbody tr th:only-of-type {\n",
              "        vertical-align: middle;\n",
              "    }\n",
              "\n",
              "    .dataframe tbody tr th {\n",
              "        vertical-align: top;\n",
              "    }\n",
              "\n",
              "    .dataframe thead th {\n",
              "        text-align: right;\n",
              "    }\n",
              "</style>\n",
              "<table border=\"1\" class=\"dataframe\">\n",
              "  <thead>\n",
              "    <tr style=\"text-align: right;\">\n",
              "      <th></th>\n",
              "      <th>user_id</th>\n",
              "      <th>REGION</th>\n",
              "      <th>TENURE</th>\n",
              "      <th>MONTANT</th>\n",
              "      <th>FREQUENCE_RECH</th>\n",
              "      <th>REVENUE</th>\n",
              "      <th>ARPU_SEGMENT</th>\n",
              "      <th>FREQUENCE</th>\n",
              "      <th>DATA_VOLUME</th>\n",
              "      <th>ON_NET</th>\n",
              "      <th>ORANGE</th>\n",
              "      <th>TIGO</th>\n",
              "      <th>ZONE1</th>\n",
              "      <th>ZONE2</th>\n",
              "      <th>MRG</th>\n",
              "      <th>REGULARITY</th>\n",
              "      <th>TOP_PACK</th>\n",
              "      <th>FREQ_TOP_PACK</th>\n",
              "    </tr>\n",
              "  </thead>\n",
              "  <tbody>\n",
              "    <tr>\n",
              "      <th>0</th>\n",
              "      <td>00001dbe00e56fc4b1c1b65dda63de2a5ece55f9</td>\n",
              "      <td>THIES</td>\n",
              "      <td>K &gt; 24 month</td>\n",
              "      <td>5000.0</td>\n",
              "      <td>5.0</td>\n",
              "      <td>5000.0</td>\n",
              "      <td>1667.0</td>\n",
              "      <td>5.0</td>\n",
              "      <td>NaN</td>\n",
              "      <td>378.0</td>\n",
              "      <td>11.0</td>\n",
              "      <td>5.0</td>\n",
              "      <td>NaN</td>\n",
              "      <td>NaN</td>\n",
              "      <td>NO</td>\n",
              "      <td>42</td>\n",
              "      <td>On-net 1000F=10MilF;10d</td>\n",
              "      <td>5.0</td>\n",
              "    </tr>\n",
              "    <tr>\n",
              "      <th>1</th>\n",
              "      <td>000055d41c8a62052dd426592e8a4a3342bf565d</td>\n",
              "      <td>NaN</td>\n",
              "      <td>I 18-21 month</td>\n",
              "      <td>300.0</td>\n",
              "      <td>2.0</td>\n",
              "      <td>326.0</td>\n",
              "      <td>109.0</td>\n",
              "      <td>3.0</td>\n",
              "      <td>397.0</td>\n",
              "      <td>NaN</td>\n",
              "      <td>0.0</td>\n",
              "      <td>NaN</td>\n",
              "      <td>NaN</td>\n",
              "      <td>NaN</td>\n",
              "      <td>NO</td>\n",
              "      <td>41</td>\n",
              "      <td>Data: 100 F=40MB,24H</td>\n",
              "      <td>1.0</td>\n",
              "    </tr>\n",
              "    <tr>\n",
              "      <th>2</th>\n",
              "      <td>000081dd3245e6869a4a9c574c7050e7bb84c2c8</td>\n",
              "      <td>DAKAR</td>\n",
              "      <td>K &gt; 24 month</td>\n",
              "      <td>3300.0</td>\n",
              "      <td>25.0</td>\n",
              "      <td>3400.0</td>\n",
              "      <td>1133.0</td>\n",
              "      <td>26.0</td>\n",
              "      <td>7150.0</td>\n",
              "      <td>0.0</td>\n",
              "      <td>2.0</td>\n",
              "      <td>5.0</td>\n",
              "      <td>NaN</td>\n",
              "      <td>NaN</td>\n",
              "      <td>NO</td>\n",
              "      <td>57</td>\n",
              "      <td>Data: 100 F=40MB,24H</td>\n",
              "      <td>22.0</td>\n",
              "    </tr>\n",
              "    <tr>\n",
              "      <th>3</th>\n",
              "      <td>0000b76d2145d9445d9ff6b65c9ebc4196c89337</td>\n",
              "      <td>NaN</td>\n",
              "      <td>K &gt; 24 month</td>\n",
              "      <td>NaN</td>\n",
              "      <td>NaN</td>\n",
              "      <td>NaN</td>\n",
              "      <td>NaN</td>\n",
              "      <td>NaN</td>\n",
              "      <td>NaN</td>\n",
              "      <td>NaN</td>\n",
              "      <td>NaN</td>\n",
              "      <td>NaN</td>\n",
              "      <td>NaN</td>\n",
              "      <td>NaN</td>\n",
              "      <td>NO</td>\n",
              "      <td>9</td>\n",
              "      <td>NaN</td>\n",
              "      <td>NaN</td>\n",
              "    </tr>\n",
              "    <tr>\n",
              "      <th>4</th>\n",
              "      <td>0000bae5480628cf8fe51ad84bcb39772fc79224</td>\n",
              "      <td>NaN</td>\n",
              "      <td>K &gt; 24 month</td>\n",
              "      <td>NaN</td>\n",
              "      <td>NaN</td>\n",
              "      <td>NaN</td>\n",
              "      <td>NaN</td>\n",
              "      <td>NaN</td>\n",
              "      <td>NaN</td>\n",
              "      <td>NaN</td>\n",
              "      <td>NaN</td>\n",
              "      <td>NaN</td>\n",
              "      <td>NaN</td>\n",
              "      <td>NaN</td>\n",
              "      <td>NO</td>\n",
              "      <td>10</td>\n",
              "      <td>NaN</td>\n",
              "      <td>NaN</td>\n",
              "    </tr>\n",
              "  </tbody>\n",
              "</table>\n",
              "</div>"
            ],
            "text/plain": [
              "                                    user_id  ... FREQ_TOP_PACK\n",
              "0  00001dbe00e56fc4b1c1b65dda63de2a5ece55f9  ...           5.0\n",
              "1  000055d41c8a62052dd426592e8a4a3342bf565d  ...           1.0\n",
              "2  000081dd3245e6869a4a9c574c7050e7bb84c2c8  ...          22.0\n",
              "3  0000b76d2145d9445d9ff6b65c9ebc4196c89337  ...           NaN\n",
              "4  0000bae5480628cf8fe51ad84bcb39772fc79224  ...           NaN\n",
              "\n",
              "[5 rows x 18 columns]"
            ]
          },
          "metadata": {
            "tags": []
          },
          "execution_count": 11
        }
      ]
    },
    {
      "cell_type": "code",
      "metadata": {
        "colab": {
          "base_uri": "https://localhost:8080/",
          "height": 305
        },
        "id": "eRcmMtOYGAo1",
        "outputId": "0137a562-dd8e-4e62-8f5c-aa9d166eea3f"
      },
      "source": [
        "test.tail()"
      ],
      "execution_count": null,
      "outputs": [
        {
          "output_type": "execute_result",
          "data": {
            "text/html": [
              "<div>\n",
              "<style scoped>\n",
              "    .dataframe tbody tr th:only-of-type {\n",
              "        vertical-align: middle;\n",
              "    }\n",
              "\n",
              "    .dataframe tbody tr th {\n",
              "        vertical-align: top;\n",
              "    }\n",
              "\n",
              "    .dataframe thead th {\n",
              "        text-align: right;\n",
              "    }\n",
              "</style>\n",
              "<table border=\"1\" class=\"dataframe\">\n",
              "  <thead>\n",
              "    <tr style=\"text-align: right;\">\n",
              "      <th></th>\n",
              "      <th>user_id</th>\n",
              "      <th>REGION</th>\n",
              "      <th>TENURE</th>\n",
              "      <th>MONTANT</th>\n",
              "      <th>FREQUENCE_RECH</th>\n",
              "      <th>REVENUE</th>\n",
              "      <th>ARPU_SEGMENT</th>\n",
              "      <th>FREQUENCE</th>\n",
              "      <th>DATA_VOLUME</th>\n",
              "      <th>ON_NET</th>\n",
              "      <th>ORANGE</th>\n",
              "      <th>TIGO</th>\n",
              "      <th>ZONE1</th>\n",
              "      <th>ZONE2</th>\n",
              "      <th>MRG</th>\n",
              "      <th>REGULARITY</th>\n",
              "      <th>TOP_PACK</th>\n",
              "      <th>FREQ_TOP_PACK</th>\n",
              "    </tr>\n",
              "  </thead>\n",
              "  <tbody>\n",
              "    <tr>\n",
              "      <th>380122</th>\n",
              "      <td>fffe7e03c7eede2ad0a728ee516c4d342dd16107</td>\n",
              "      <td>DAKAR</td>\n",
              "      <td>K &gt; 24 month</td>\n",
              "      <td>4000.0</td>\n",
              "      <td>8.0</td>\n",
              "      <td>3999.0</td>\n",
              "      <td>1333.0</td>\n",
              "      <td>8.0</td>\n",
              "      <td>1587.0</td>\n",
              "      <td>26.0</td>\n",
              "      <td>250.0</td>\n",
              "      <td>1.0</td>\n",
              "      <td>NaN</td>\n",
              "      <td>NaN</td>\n",
              "      <td>NO</td>\n",
              "      <td>53</td>\n",
              "      <td>Mixt 250F=Unlimited_call24H</td>\n",
              "      <td>5.0</td>\n",
              "    </tr>\n",
              "    <tr>\n",
              "      <th>380123</th>\n",
              "      <td>fffec230e6a1aa51ab37d0051ece42de611e71c6</td>\n",
              "      <td>NaN</td>\n",
              "      <td>K &gt; 24 month</td>\n",
              "      <td>NaN</td>\n",
              "      <td>NaN</td>\n",
              "      <td>NaN</td>\n",
              "      <td>NaN</td>\n",
              "      <td>NaN</td>\n",
              "      <td>NaN</td>\n",
              "      <td>NaN</td>\n",
              "      <td>NaN</td>\n",
              "      <td>NaN</td>\n",
              "      <td>NaN</td>\n",
              "      <td>NaN</td>\n",
              "      <td>NO</td>\n",
              "      <td>1</td>\n",
              "      <td>NaN</td>\n",
              "      <td>NaN</td>\n",
              "    </tr>\n",
              "    <tr>\n",
              "      <th>380124</th>\n",
              "      <td>ffff0dcc1ab9812bf205b6d76e9d084053cd96f5</td>\n",
              "      <td>NaN</td>\n",
              "      <td>K &gt; 24 month</td>\n",
              "      <td>3950.0</td>\n",
              "      <td>7.0</td>\n",
              "      <td>3949.0</td>\n",
              "      <td>1316.0</td>\n",
              "      <td>10.0</td>\n",
              "      <td>1724.0</td>\n",
              "      <td>25.0</td>\n",
              "      <td>71.0</td>\n",
              "      <td>NaN</td>\n",
              "      <td>NaN</td>\n",
              "      <td>NaN</td>\n",
              "      <td>NO</td>\n",
              "      <td>15</td>\n",
              "      <td>IVR Echat_Daily_50F</td>\n",
              "      <td>6.0</td>\n",
              "    </tr>\n",
              "    <tr>\n",
              "      <th>380125</th>\n",
              "      <td>ffff91ea6a09a0c8ea42bc6ae33df4b5e06283dc</td>\n",
              "      <td>NaN</td>\n",
              "      <td>K &gt; 24 month</td>\n",
              "      <td>3850.0</td>\n",
              "      <td>18.0</td>\n",
              "      <td>3955.0</td>\n",
              "      <td>1318.0</td>\n",
              "      <td>23.0</td>\n",
              "      <td>2962.0</td>\n",
              "      <td>0.0</td>\n",
              "      <td>7.0</td>\n",
              "      <td>NaN</td>\n",
              "      <td>NaN</td>\n",
              "      <td>NaN</td>\n",
              "      <td>NO</td>\n",
              "      <td>29</td>\n",
              "      <td>Data: 100 F=40MB,24H</td>\n",
              "      <td>11.0</td>\n",
              "    </tr>\n",
              "    <tr>\n",
              "      <th>380126</th>\n",
              "      <td>ffffb393b346f5348034e6e22be93778d94d4beb</td>\n",
              "      <td>DIOURBEL</td>\n",
              "      <td>K &gt; 24 month</td>\n",
              "      <td>NaN</td>\n",
              "      <td>NaN</td>\n",
              "      <td>NaN</td>\n",
              "      <td>NaN</td>\n",
              "      <td>NaN</td>\n",
              "      <td>NaN</td>\n",
              "      <td>0.0</td>\n",
              "      <td>NaN</td>\n",
              "      <td>NaN</td>\n",
              "      <td>NaN</td>\n",
              "      <td>NaN</td>\n",
              "      <td>NO</td>\n",
              "      <td>20</td>\n",
              "      <td>NaN</td>\n",
              "      <td>NaN</td>\n",
              "    </tr>\n",
              "  </tbody>\n",
              "</table>\n",
              "</div>"
            ],
            "text/plain": [
              "                                         user_id  ... FREQ_TOP_PACK\n",
              "380122  fffe7e03c7eede2ad0a728ee516c4d342dd16107  ...           5.0\n",
              "380123  fffec230e6a1aa51ab37d0051ece42de611e71c6  ...           NaN\n",
              "380124  ffff0dcc1ab9812bf205b6d76e9d084053cd96f5  ...           6.0\n",
              "380125  ffff91ea6a09a0c8ea42bc6ae33df4b5e06283dc  ...          11.0\n",
              "380126  ffffb393b346f5348034e6e22be93778d94d4beb  ...           NaN\n",
              "\n",
              "[5 rows x 18 columns]"
            ]
          },
          "metadata": {
            "tags": []
          },
          "execution_count": 12
        }
      ]
    },
    {
      "cell_type": "code",
      "metadata": {
        "colab": {
          "base_uri": "https://localhost:8080/"
        },
        "id": "P7SRZYg6GApI",
        "outputId": "7ca9b389-b839-4f62-9ffa-e1ffbb60b901"
      },
      "source": [
        "test.shape"
      ],
      "execution_count": null,
      "outputs": [
        {
          "output_type": "execute_result",
          "data": {
            "text/plain": [
              "(380127, 18)"
            ]
          },
          "metadata": {
            "tags": []
          },
          "execution_count": 13
        }
      ]
    },
    {
      "cell_type": "code",
      "metadata": {
        "colab": {
          "base_uri": "https://localhost:8080/"
        },
        "id": "Ky2rJ530GApZ",
        "outputId": "ff237eef-f452-4998-f830-7689b2032c5d"
      },
      "source": [
        "test.info()"
      ],
      "execution_count": null,
      "outputs": [
        {
          "output_type": "stream",
          "text": [
            "<class 'pandas.core.frame.DataFrame'>\n",
            "RangeIndex: 380127 entries, 0 to 380126\n",
            "Data columns (total 18 columns):\n",
            " #   Column          Non-Null Count   Dtype  \n",
            "---  ------          --------------   -----  \n",
            " 0   user_id         380127 non-null  object \n",
            " 1   REGION          230399 non-null  object \n",
            " 2   TENURE          380127 non-null  object \n",
            " 3   MONTANT         247072 non-null  float64\n",
            " 4   FREQUENCE_RECH  247072 non-null  float64\n",
            " 5   REVENUE         252754 non-null  float64\n",
            " 6   ARPU_SEGMENT    252754 non-null  float64\n",
            " 7   FREQUENCE       252754 non-null  float64\n",
            " 8   DATA_VOLUME     193087 non-null  float64\n",
            " 9   ON_NET          241613 non-null  float64\n",
            " 10  ORANGE          222897 non-null  float64\n",
            " 11  TIGO            153126 non-null  float64\n",
            " 12  ZONE1           29861 non-null   float64\n",
            " 13  ZONE2           24076 non-null   float64\n",
            " 14  MRG             380127 non-null  object \n",
            " 15  REGULARITY      380127 non-null  int64  \n",
            " 16  TOP_PACK        221348 non-null  object \n",
            " 17  FREQ_TOP_PACK   221348 non-null  float64\n",
            "dtypes: float64(12), int64(1), object(5)\n",
            "memory usage: 52.2+ MB\n"
          ],
          "name": "stdout"
        }
      ]
    },
    {
      "cell_type": "code",
      "metadata": {
        "colab": {
          "base_uri": "https://localhost:8080/",
          "height": 198
        },
        "id": "dJz_J9PCGApp",
        "outputId": "19741559-8496-41b0-f36e-a725d3d164c5"
      },
      "source": [
        "submission.head()"
      ],
      "execution_count": null,
      "outputs": [
        {
          "output_type": "execute_result",
          "data": {
            "text/html": [
              "<div>\n",
              "<style scoped>\n",
              "    .dataframe tbody tr th:only-of-type {\n",
              "        vertical-align: middle;\n",
              "    }\n",
              "\n",
              "    .dataframe tbody tr th {\n",
              "        vertical-align: top;\n",
              "    }\n",
              "\n",
              "    .dataframe thead th {\n",
              "        text-align: right;\n",
              "    }\n",
              "</style>\n",
              "<table border=\"1\" class=\"dataframe\">\n",
              "  <thead>\n",
              "    <tr style=\"text-align: right;\">\n",
              "      <th></th>\n",
              "      <th>user_id</th>\n",
              "      <th>CHURN</th>\n",
              "    </tr>\n",
              "  </thead>\n",
              "  <tbody>\n",
              "    <tr>\n",
              "      <th>0</th>\n",
              "      <td>00001dbe00e56fc4b1c1b65dda63de2a5ece55f9</td>\n",
              "      <td>0</td>\n",
              "    </tr>\n",
              "    <tr>\n",
              "      <th>1</th>\n",
              "      <td>000055d41c8a62052dd426592e8a4a3342bf565d</td>\n",
              "      <td>0</td>\n",
              "    </tr>\n",
              "    <tr>\n",
              "      <th>2</th>\n",
              "      <td>000081dd3245e6869a4a9c574c7050e7bb84c2c8</td>\n",
              "      <td>0</td>\n",
              "    </tr>\n",
              "    <tr>\n",
              "      <th>3</th>\n",
              "      <td>0000b76d2145d9445d9ff6b65c9ebc4196c89337</td>\n",
              "      <td>0</td>\n",
              "    </tr>\n",
              "    <tr>\n",
              "      <th>4</th>\n",
              "      <td>0000bae5480628cf8fe51ad84bcb39772fc79224</td>\n",
              "      <td>0</td>\n",
              "    </tr>\n",
              "  </tbody>\n",
              "</table>\n",
              "</div>"
            ],
            "text/plain": [
              "                                    user_id  CHURN\n",
              "0  00001dbe00e56fc4b1c1b65dda63de2a5ece55f9      0\n",
              "1  000055d41c8a62052dd426592e8a4a3342bf565d      0\n",
              "2  000081dd3245e6869a4a9c574c7050e7bb84c2c8      0\n",
              "3  0000b76d2145d9445d9ff6b65c9ebc4196c89337      0\n",
              "4  0000bae5480628cf8fe51ad84bcb39772fc79224      0"
            ]
          },
          "metadata": {
            "tags": []
          },
          "execution_count": 15
        }
      ]
    },
    {
      "cell_type": "code",
      "metadata": {
        "colab": {
          "base_uri": "https://localhost:8080/"
        },
        "id": "B_74pJyjGAp5",
        "outputId": "4d2e0e0e-c79e-4c78-cbc2-3e3db1efb57f"
      },
      "source": [
        "submission.shape"
      ],
      "execution_count": null,
      "outputs": [
        {
          "output_type": "execute_result",
          "data": {
            "text/plain": [
              "(380127, 2)"
            ]
          },
          "metadata": {
            "tags": []
          },
          "execution_count": 16
        }
      ]
    },
    {
      "cell_type": "code",
      "metadata": {
        "colab": {
          "base_uri": "https://localhost:8080/"
        },
        "id": "Lf5qh9IsNHHD",
        "outputId": "3f463337-c346-4b81-de16-7b7d93adb34c"
      },
      "source": [
        "train['TOP_PACK'].unique()\n",
        "train['FREQUENCE'].unique()"
      ],
      "execution_count": null,
      "outputs": [
        {
          "output_type": "execute_result",
          "data": {
            "text/plain": [
              "array([17., nan,  2., 18.,  1., 22., 12.,  8., 36.,  7., 29., 57., 27.,\n",
              "       16., 19., 15.,  6., 64., 30., 25.,  5., 45.,  9.,  3., 26., 68.,\n",
              "       11., 13., 20., 42., 43., 73., 38., 10., 37., 44., 39., 14., 35.,\n",
              "       21., 46.,  4., 28., 32., 24., 23., 47., 51., 48., 53., 31., 41.,\n",
              "       54., 63., 50., 59., 40., 56., 58., 33., 80., 52., 65., 67., 71.,\n",
              "       34., 55., 78., 49., 66., 69., 62., 83., 74., 82., 76., 61., 81.,\n",
              "       77., 75., 72., 60., 85., 79., 86., 89., 70., 84., 88., 87., 91.,\n",
              "       90.])"
            ]
          },
          "metadata": {
            "tags": []
          },
          "execution_count": 17
        }
      ]
    },
    {
      "cell_type": "code",
      "metadata": {
        "id": "kk9Njba-GAqL"
      },
      "source": [
        "#Check how many levels are involved in each of the categorical features (object)"
      ],
      "execution_count": null,
      "outputs": []
    },
    {
      "cell_type": "code",
      "metadata": {
        "colab": {
          "base_uri": "https://localhost:8080/",
          "height": 693
        },
        "id": "4hTfcuEeGAqd",
        "outputId": "c0d5c1fa-057c-4f05-d599-111c959714ca"
      },
      "source": [
        "print(train['REGION'].value_counts())\n",
        "plt.figure(figsize=(10,5))\n",
        "train['REGION'].value_counts(normalize=True).plot(kind='bar')\n",
        "plt.ylabel('counts')\n",
        "plt.xlabel('REGION')"
      ],
      "execution_count": null,
      "outputs": [
        {
          "output_type": "stream",
          "text": [
            "DAKAR          513271\n",
            "THIES          180052\n",
            "SAINT-LOUIS    119886\n",
            "LOUGA           99053\n",
            "KAOLACK         96986\n",
            "DIOURBEL        66911\n",
            "TAMBACOUNDA     55074\n",
            "KAFFRINE        43963\n",
            "KOLDA           38743\n",
            "FATICK          35643\n",
            "MATAM           29083\n",
            "ZIGUINCHOR      21945\n",
            "SEDHIOU          3119\n",
            "KEDOUGOU         1020\n",
            "Name: REGION, dtype: int64\n"
          ],
          "name": "stdout"
        },
        {
          "output_type": "execute_result",
          "data": {
            "text/plain": [
              "Text(0.5, 0, 'REGION')"
            ]
          },
          "metadata": {
            "tags": []
          },
          "execution_count": 19
        },
        {
          "output_type": "display_data",
          "data": {
            "image/png": "[encoded data removed]",
            "text/plain": [
              "<Figure size 720x360 with 1 Axes>"
            ]
          },
          "metadata": {
            "tags": [],
            "needs_background": "light"
          }
        }
      ]
    },
    {
      "cell_type": "code",
      "metadata": {
        "colab": {
          "base_uri": "https://localhost:8080/",
          "height": 581
        },
        "id": "MwXoL_biGAqu",
        "outputId": "f771643c-bdd9-40a9-9d0e-e714b6e7f8b2"
      },
      "source": [
        "\n",
        "\n",
        "print(train['TENURE'].value_counts())\n",
        "plt.figure(figsize=(10,5))\n",
        "train['TENURE'].value_counts(normalize=True).plot(kind='bar')\n",
        "plt.ylabel('counts')\n",
        "plt.xlabel('TENURE')"
      ],
      "execution_count": null,
      "outputs": [
        {
          "output_type": "stream",
          "text": [
            "K > 24 month     2043201\n",
            "I 18-21 month      45278\n",
            "H 15-18 month      26006\n",
            "G 12-15 month      14901\n",
            "J 21-24 month      12725\n",
            "F 9-12 month        9328\n",
            "E 6-9 month         1839\n",
            "D 3-6 month          770\n",
            "Name: TENURE, dtype: int64\n"
          ],
          "name": "stdout"
        },
        {
          "output_type": "execute_result",
          "data": {
            "text/plain": [
              "Text(0.5, 0, 'TENURE')"
            ]
          },
          "metadata": {
            "tags": []
          },
          "execution_count": 20
        },
        {
          "output_type": "display_data",
          "data": {
            "image/png": "[encoded data removed]",
            "text/plain": [
              "<Figure size 720x360 with 1 Axes>"
            ]
          },
          "metadata": {
            "tags": [],
            "needs_background": "light"
          }
        }
      ]
    },
    {
      "cell_type": "code",
      "metadata": {
        "colab": {
          "base_uri": "https://localhost:8080/",
          "height": 394
        },
        "id": "hxKSF_e9GAq_",
        "outputId": "a10aa2e0-8082-495f-90bb-35ecc6d354b1"
      },
      "source": [
        "print(train['MRG'].value_counts())\n",
        "plt.figure(figsize=(10,5))\n",
        "train['MRG'].value_counts(normalize=True).plot(kind='bar')\n",
        "plt.ylabel('counts')\n",
        "plt.xlabel('MRG')"
      ],
      "execution_count": null,
      "outputs": [
        {
          "output_type": "stream",
          "text": [
            "NO    2154048\n",
            "Name: MRG, dtype: int64\n"
          ],
          "name": "stdout"
        },
        {
          "output_type": "execute_result",
          "data": {
            "text/plain": [
              "Text(0.5, 0, 'MRG')"
            ]
          },
          "metadata": {
            "tags": []
          },
          "execution_count": 21
        },
        {
          "output_type": "display_data",
          "data": {
            "image/png": "[encoded data removed]",
            "text/plain": [
              "<Figure size 720x360 with 1 Axes>"
            ]
          },
          "metadata": {
            "tags": [],
            "needs_background": "light"
          }
        }
      ]
    },
    {
      "cell_type": "code",
      "metadata": {
        "colab": {
          "base_uri": "https://localhost:8080/",
          "height": 829
        },
        "id": "Tqp2_WV-GArR",
        "outputId": "64886561-ef1f-42e4-ecfb-089fe13d4871"
      },
      "source": [
        "#probaly not the best way to visualize this\n",
        "print(train['TOP_PACK'].value_counts())\n",
        "plt.figure(figsize=(10,5))\n",
        "train['TOP_PACK'].value_counts(normalize=True).plot(kind='bar')\n",
        "plt.ylabel('counts')\n",
        "plt.xlabel('TOP_PACK')"
      ],
      "execution_count": null,
      "outputs": [
        {
          "output_type": "stream",
          "text": [
            "All-net 500F=2000F;5d                   317802\n",
            "On net 200F=Unlimited _call24H          152295\n",
            "Data:490F=1GB,7d                        115180\n",
            "Data: 100 F=40MB,24H                     84649\n",
            "Mixt 250F=Unlimited_call24H              67512\n",
            "                                         ...  \n",
            "Go-NetPro-4 Go                               1\n",
            "MegaChrono_3000F=12500F TOUS RESEAUX         1\n",
            "pilot_offer4                                 1\n",
            "APANews_monthly                              1\n",
            "Data_Mifi_10Go                               1\n",
            "Name: TOP_PACK, Length: 140, dtype: int64\n"
          ],
          "name": "stdout"
        },
        {
          "output_type": "execute_result",
          "data": {
            "text/plain": [
              "Text(0.5, 0, 'TOP_PACK')"
            ]
          },
          "metadata": {
            "tags": []
          },
          "execution_count": 22
        },
        {
          "output_type": "display_data",
          "data": {
            "image/png": "[encoded data removed]",
            "text/plain": [
              "<Figure size 720x360 with 1 Axes>"
            ]
          },
          "metadata": {
            "tags": [],
            "needs_background": "light"
          }
        }
      ]
    },
    {
      "cell_type": "code",
      "metadata": {
        "colab": {
          "base_uri": "https://localhost:8080/",
          "height": 403
        },
        "id": "h01zN8X2GArr",
        "outputId": "94706589-ed7b-44c5-95cb-2dfbc1ab8a3b"
      },
      "source": [
        "\n",
        "#Check if the predictor class is balanced \n",
        "print(train['CHURN'].value_counts())\n",
        "plt.figure(figsize=(10,5))\n",
        "train['CHURN'].value_counts(normalize=True).plot(kind='bar')\n",
        "plt.ylabel('counts')\n",
        "plt.xlabel('Churn')"
      ],
      "execution_count": null,
      "outputs": [
        {
          "output_type": "stream",
          "text": [
            "0    1750062\n",
            "1     403986\n",
            "Name: CHURN, dtype: int64\n"
          ],
          "name": "stdout"
        },
        {
          "output_type": "execute_result",
          "data": {
            "text/plain": [
              "Text(0.5, 0, 'Churn')"
            ]
          },
          "metadata": {
            "tags": []
          },
          "execution_count": 23
        },
        {
          "output_type": "display_data",
          "data": {
            "image/png": "[encoded data removed]",
            "text/plain": [
              "<Figure size 720x360 with 1 Axes>"
            ]
          },
          "metadata": {
            "tags": [],
            "needs_background": "light"
          }
        }
      ]
    },
    {
      "cell_type": "code",
      "metadata": {
        "colab": {
          "base_uri": "https://localhost:8080/",
          "height": 468
        },
        "id": "oYWw1X-GGAsB",
        "outputId": "29492479-e5b4-410d-8dfd-749947d2c92e"
      },
      "source": [
        "#Check summary of numerical fields\n",
        "train.select_dtypes(include=['int64', 'float64']).describe().T"
      ],
      "execution_count": null,
      "outputs": [
        {
          "output_type": "execute_result",
          "data": {
            "text/html": [
              "<div>\n",
              "<style scoped>\n",
              "    .dataframe tbody tr th:only-of-type {\n",
              "        vertical-align: middle;\n",
              "    }\n",
              "\n",
              "    .dataframe tbody tr th {\n",
              "        vertical-align: top;\n",
              "    }\n",
              "\n",
              "    .dataframe thead th {\n",
              "        text-align: right;\n",
              "    }\n",
              "</style>\n",
              "<table border=\"1\" class=\"dataframe\">\n",
              "  <thead>\n",
              "    <tr style=\"text-align: right;\">\n",
              "      <th></th>\n",
              "      <th>count</th>\n",
              "      <th>mean</th>\n",
              "      <th>std</th>\n",
              "      <th>min</th>\n",
              "      <th>25%</th>\n",
              "      <th>50%</th>\n",
              "      <th>75%</th>\n",
              "      <th>max</th>\n",
              "    </tr>\n",
              "  </thead>\n",
              "  <tbody>\n",
              "    <tr>\n",
              "      <th>MONTANT</th>\n",
              "      <td>1397309.0</td>\n",
              "      <td>5532.116998</td>\n",
              "      <td>7111.339421</td>\n",
              "      <td>10.0</td>\n",
              "      <td>1000.0</td>\n",
              "      <td>3000.0</td>\n",
              "      <td>7350.0</td>\n",
              "      <td>470000.0</td>\n",
              "    </tr>\n",
              "    <tr>\n",
              "      <th>FREQUENCE_RECH</th>\n",
              "      <td>1397309.0</td>\n",
              "      <td>11.529120</td>\n",
              "      <td>13.274070</td>\n",
              "      <td>1.0</td>\n",
              "      <td>2.0</td>\n",
              "      <td>7.0</td>\n",
              "      <td>16.0</td>\n",
              "      <td>133.0</td>\n",
              "    </tr>\n",
              "    <tr>\n",
              "      <th>REVENUE</th>\n",
              "      <td>1428000.0</td>\n",
              "      <td>5510.810334</td>\n",
              "      <td>7187.112880</td>\n",
              "      <td>1.0</td>\n",
              "      <td>1000.0</td>\n",
              "      <td>3000.0</td>\n",
              "      <td>7368.0</td>\n",
              "      <td>532177.0</td>\n",
              "    </tr>\n",
              "    <tr>\n",
              "      <th>ARPU_SEGMENT</th>\n",
              "      <td>1428000.0</td>\n",
              "      <td>1836.942894</td>\n",
              "      <td>2395.699954</td>\n",
              "      <td>0.0</td>\n",
              "      <td>333.0</td>\n",
              "      <td>1000.0</td>\n",
              "      <td>2456.0</td>\n",
              "      <td>177392.0</td>\n",
              "    </tr>\n",
              "    <tr>\n",
              "      <th>FREQUENCE</th>\n",
              "      <td>1428000.0</td>\n",
              "      <td>13.978141</td>\n",
              "      <td>14.694035</td>\n",
              "      <td>1.0</td>\n",
              "      <td>3.0</td>\n",
              "      <td>9.0</td>\n",
              "      <td>20.0</td>\n",
              "      <td>91.0</td>\n",
              "    </tr>\n",
              "    <tr>\n",
              "      <th>DATA_VOLUME</th>\n",
              "      <td>1093615.0</td>\n",
              "      <td>3366.450167</td>\n",
              "      <td>13304.463667</td>\n",
              "      <td>0.0</td>\n",
              "      <td>0.0</td>\n",
              "      <td>257.0</td>\n",
              "      <td>2895.0</td>\n",
              "      <td>1823866.0</td>\n",
              "    </tr>\n",
              "    <tr>\n",
              "      <th>ON_NET</th>\n",
              "      <td>1367373.0</td>\n",
              "      <td>277.689140</td>\n",
              "      <td>872.688909</td>\n",
              "      <td>0.0</td>\n",
              "      <td>5.0</td>\n",
              "      <td>27.0</td>\n",
              "      <td>156.0</td>\n",
              "      <td>50809.0</td>\n",
              "    </tr>\n",
              "    <tr>\n",
              "      <th>ORANGE</th>\n",
              "      <td>1258800.0</td>\n",
              "      <td>95.418711</td>\n",
              "      <td>204.987266</td>\n",
              "      <td>0.0</td>\n",
              "      <td>7.0</td>\n",
              "      <td>29.0</td>\n",
              "      <td>99.0</td>\n",
              "      <td>21323.0</td>\n",
              "    </tr>\n",
              "    <tr>\n",
              "      <th>TIGO</th>\n",
              "      <td>864032.0</td>\n",
              "      <td>23.109253</td>\n",
              "      <td>63.578086</td>\n",
              "      <td>0.0</td>\n",
              "      <td>2.0</td>\n",
              "      <td>6.0</td>\n",
              "      <td>20.0</td>\n",
              "      <td>4174.0</td>\n",
              "    </tr>\n",
              "    <tr>\n",
              "      <th>ZONE1</th>\n",
              "      <td>169721.0</td>\n",
              "      <td>8.170132</td>\n",
              "      <td>41.169511</td>\n",
              "      <td>0.0</td>\n",
              "      <td>0.0</td>\n",
              "      <td>1.0</td>\n",
              "      <td>3.0</td>\n",
              "      <td>4792.0</td>\n",
              "    </tr>\n",
              "    <tr>\n",
              "      <th>ZONE2</th>\n",
              "      <td>136824.0</td>\n",
              "      <td>7.553309</td>\n",
              "      <td>33.487234</td>\n",
              "      <td>0.0</td>\n",
              "      <td>0.0</td>\n",
              "      <td>2.0</td>\n",
              "      <td>5.0</td>\n",
              "      <td>3697.0</td>\n",
              "    </tr>\n",
              "    <tr>\n",
              "      <th>REGULARITY</th>\n",
              "      <td>2154048.0</td>\n",
              "      <td>28.042505</td>\n",
              "      <td>22.286857</td>\n",
              "      <td>1.0</td>\n",
              "      <td>6.0</td>\n",
              "      <td>24.0</td>\n",
              "      <td>51.0</td>\n",
              "      <td>62.0</td>\n",
              "    </tr>\n",
              "    <tr>\n",
              "      <th>FREQ_TOP_PACK</th>\n",
              "      <td>1251454.0</td>\n",
              "      <td>9.272461</td>\n",
              "      <td>12.280443</td>\n",
              "      <td>1.0</td>\n",
              "      <td>2.0</td>\n",
              "      <td>5.0</td>\n",
              "      <td>12.0</td>\n",
              "      <td>713.0</td>\n",
              "    </tr>\n",
              "    <tr>\n",
              "      <th>CHURN</th>\n",
              "      <td>2154048.0</td>\n",
              "      <td>0.187547</td>\n",
              "      <td>0.390350</td>\n",
              "      <td>0.0</td>\n",
              "      <td>0.0</td>\n",
              "      <td>0.0</td>\n",
              "      <td>0.0</td>\n",
              "      <td>1.0</td>\n",
              "    </tr>\n",
              "  </tbody>\n",
              "</table>\n",
              "</div>"
            ],
            "text/plain": [
              "                    count         mean           std  ...     50%     75%        max\n",
              "MONTANT         1397309.0  5532.116998   7111.339421  ...  3000.0  7350.0   470000.0\n",
              "FREQUENCE_RECH  1397309.0    11.529120     13.274070  ...     7.0    16.0      133.0\n",
              "REVENUE         1428000.0  5510.810334   7187.112880  ...  3000.0  7368.0   532177.0\n",
              "ARPU_SEGMENT    1428000.0  1836.942894   2395.699954  ...  1000.0  2456.0   177392.0\n",
              "FREQUENCE       1428000.0    13.978141     14.694035  ...     9.0    20.0       91.0\n",
              "DATA_VOLUME     1093615.0  3366.450167  13304.463667  ...   257.0  2895.0  1823866.0\n",
              "ON_NET          1367373.0   277.689140    872.688909  ...    27.0   156.0    50809.0\n",
              "ORANGE          1258800.0    95.418711    204.987266  ...    29.0    99.0    21323.0\n",
              "TIGO             864032.0    23.109253     63.578086  ...     6.0    20.0     4174.0\n",
              "ZONE1            169721.0     8.170132     41.169511  ...     1.0     3.0     4792.0\n",
              "ZONE2            136824.0     7.553309     33.487234  ...     2.0     5.0     3697.0\n",
              "REGULARITY      2154048.0    28.042505     22.286857  ...    24.0    51.0       62.0\n",
              "FREQ_TOP_PACK   1251454.0     9.272461     12.280443  ...     5.0    12.0      713.0\n",
              "CHURN           2154048.0     0.187547      0.390350  ...     0.0     0.0        1.0\n",
              "\n",
              "[14 rows x 8 columns]"
            ]
          },
          "metadata": {
            "tags": []
          },
          "execution_count": 24
        }
      ]
    },
    {
      "cell_type": "code",
      "metadata": {
        "colab": {
          "base_uri": "https://localhost:8080/"
        },
        "id": "YBxQP4hcGAsQ",
        "outputId": "f5842b88-4d96-4d64-92e5-7ee8114835e2"
      },
      "source": [
        "#Check for missing values in training data\n",
        "train.isnull().sum()"
      ],
      "execution_count": null,
      "outputs": [
        {
          "output_type": "execute_result",
          "data": {
            "text/plain": [
              "user_id                 0\n",
              "REGION             849299\n",
              "TENURE                  0\n",
              "MONTANT            756739\n",
              "FREQUENCE_RECH     756739\n",
              "REVENUE            726048\n",
              "ARPU_SEGMENT       726048\n",
              "FREQUENCE          726048\n",
              "DATA_VOLUME       1060433\n",
              "ON_NET             786675\n",
              "ORANGE             895248\n",
              "TIGO              1290016\n",
              "ZONE1             1984327\n",
              "ZONE2             2017224\n",
              "MRG                     0\n",
              "REGULARITY              0\n",
              "TOP_PACK           902594\n",
              "FREQ_TOP_PACK      902594\n",
              "CHURN                   0\n",
              "dtype: int64"
            ]
          },
          "metadata": {
            "tags": []
          },
          "execution_count": 25
        }
      ]
    },
    {
      "cell_type": "code",
      "metadata": {
        "colab": {
          "base_uri": "https://localhost:8080/"
        },
        "id": "R_YaJ9-3GAso",
        "outputId": "e8f1e7b9-cc81-4293-bffe-9acf53ee5ffe"
      },
      "source": [
        "#Check for missing values in test data\n",
        "test.isnull().sum()"
      ],
      "execution_count": null,
      "outputs": [
        {
          "output_type": "execute_result",
          "data": {
            "text/plain": [
              "user_id                0\n",
              "REGION            149728\n",
              "TENURE                 0\n",
              "MONTANT           133055\n",
              "FREQUENCE_RECH    133055\n",
              "REVENUE           127373\n",
              "ARPU_SEGMENT      127373\n",
              "FREQUENCE         127373\n",
              "DATA_VOLUME       187040\n",
              "ON_NET            138514\n",
              "ORANGE            157230\n",
              "TIGO              227001\n",
              "ZONE1             350266\n",
              "ZONE2             356051\n",
              "MRG                    0\n",
              "REGULARITY             0\n",
              "TOP_PACK          158779\n",
              "FREQ_TOP_PACK     158779\n",
              "dtype: int64"
            ]
          },
          "metadata": {
            "tags": []
          },
          "execution_count": 26
        }
      ]
    },
    {
      "cell_type": "code",
      "metadata": {
        "id": "HFu7R7UYGAs5"
      },
      "source": [
        "#We will drop REGION, TOP_PACK, and MRG\n",
        "#We will also replace the missing values for the numerical columns with their means (averages)"
      ],
      "execution_count": null,
      "outputs": []
    },
    {
      "cell_type": "code",
      "metadata": {
        "id": "-lMIgRZZGAtM"
      },
      "source": [
        "train.drop(columns=['REGION', 'MRG', 'TOP_PACK','FREQ_TOP_PACK'], inplace=True) #drop these columns"
      ],
      "execution_count": null,
      "outputs": []
    },
    {
      "cell_type": "code",
      "metadata": {
        "colab": {
          "base_uri": "https://localhost:8080/",
          "height": 198
        },
        "id": "YViPQQAEGAta",
        "outputId": "3f314e78-bef3-4e0d-d3d1-8f2ede4dabcf"
      },
      "source": [
        "train.head()"
      ],
      "execution_count": null,
      "outputs": [
        {
          "output_type": "execute_result",
          "data": {
            "text/html": [
              "<div>\n",
              "<style scoped>\n",
              "    .dataframe tbody tr th:only-of-type {\n",
              "        vertical-align: middle;\n",
              "    }\n",
              "\n",
              "    .dataframe tbody tr th {\n",
              "        vertical-align: top;\n",
              "    }\n",
              "\n",
              "    .dataframe thead th {\n",
              "        text-align: right;\n",
              "    }\n",
              "</style>\n",
              "<table border=\"1\" class=\"dataframe\">\n",
              "  <thead>\n",
              "    <tr style=\"text-align: right;\">\n",
              "      <th></th>\n",
              "      <th>user_id</th>\n",
              "      <th>TENURE</th>\n",
              "      <th>MONTANT</th>\n",
              "      <th>FREQUENCE_RECH</th>\n",
              "      <th>REVENUE</th>\n",
              "      <th>ARPU_SEGMENT</th>\n",
              "      <th>FREQUENCE</th>\n",
              "      <th>DATA_VOLUME</th>\n",
              "      <th>ON_NET</th>\n",
              "      <th>ORANGE</th>\n",
              "      <th>TIGO</th>\n",
              "      <th>ZONE1</th>\n",
              "      <th>ZONE2</th>\n",
              "      <th>REGULARITY</th>\n",
              "      <th>CHURN</th>\n",
              "    </tr>\n",
              "  </thead>\n",
              "  <tbody>\n",
              "    <tr>\n",
              "      <th>0</th>\n",
              "      <td>00000bfd7d50f01092811bc0c8d7b0d6fe7c3596</td>\n",
              "      <td>K &gt; 24 month</td>\n",
              "      <td>4250.0</td>\n",
              "      <td>15.0</td>\n",
              "      <td>4251.0</td>\n",
              "      <td>1417.0</td>\n",
              "      <td>17.0</td>\n",
              "      <td>4.0</td>\n",
              "      <td>388.0</td>\n",
              "      <td>46.0</td>\n",
              "      <td>1.0</td>\n",
              "      <td>1.0</td>\n",
              "      <td>2.0</td>\n",
              "      <td>54</td>\n",
              "      <td>0</td>\n",
              "    </tr>\n",
              "    <tr>\n",
              "      <th>1</th>\n",
              "      <td>00000cb4a5d760de88fecb38e2f71b7bec52e834</td>\n",
              "      <td>I 18-21 month</td>\n",
              "      <td>NaN</td>\n",
              "      <td>NaN</td>\n",
              "      <td>NaN</td>\n",
              "      <td>NaN</td>\n",
              "      <td>NaN</td>\n",
              "      <td>NaN</td>\n",
              "      <td>NaN</td>\n",
              "      <td>NaN</td>\n",
              "      <td>NaN</td>\n",
              "      <td>NaN</td>\n",
              "      <td>NaN</td>\n",
              "      <td>4</td>\n",
              "      <td>1</td>\n",
              "    </tr>\n",
              "    <tr>\n",
              "      <th>2</th>\n",
              "      <td>00001654a9d9f96303d9969d0a4a851714a4bb57</td>\n",
              "      <td>K &gt; 24 month</td>\n",
              "      <td>3600.0</td>\n",
              "      <td>2.0</td>\n",
              "      <td>1020.0</td>\n",
              "      <td>340.0</td>\n",
              "      <td>2.0</td>\n",
              "      <td>NaN</td>\n",
              "      <td>90.0</td>\n",
              "      <td>46.0</td>\n",
              "      <td>7.0</td>\n",
              "      <td>NaN</td>\n",
              "      <td>NaN</td>\n",
              "      <td>17</td>\n",
              "      <td>0</td>\n",
              "    </tr>\n",
              "    <tr>\n",
              "      <th>3</th>\n",
              "      <td>00001dd6fa45f7ba044bd5d84937be464ce78ac2</td>\n",
              "      <td>K &gt; 24 month</td>\n",
              "      <td>13500.0</td>\n",
              "      <td>15.0</td>\n",
              "      <td>13502.0</td>\n",
              "      <td>4501.0</td>\n",
              "      <td>18.0</td>\n",
              "      <td>43804.0</td>\n",
              "      <td>41.0</td>\n",
              "      <td>102.0</td>\n",
              "      <td>2.0</td>\n",
              "      <td>NaN</td>\n",
              "      <td>NaN</td>\n",
              "      <td>62</td>\n",
              "      <td>0</td>\n",
              "    </tr>\n",
              "    <tr>\n",
              "      <th>4</th>\n",
              "      <td>000028d9e13a595abe061f9b58f3d76ab907850f</td>\n",
              "      <td>K &gt; 24 month</td>\n",
              "      <td>1000.0</td>\n",
              "      <td>1.0</td>\n",
              "      <td>985.0</td>\n",
              "      <td>328.0</td>\n",
              "      <td>1.0</td>\n",
              "      <td>NaN</td>\n",
              "      <td>39.0</td>\n",
              "      <td>24.0</td>\n",
              "      <td>NaN</td>\n",
              "      <td>NaN</td>\n",
              "      <td>NaN</td>\n",
              "      <td>11</td>\n",
              "      <td>0</td>\n",
              "    </tr>\n",
              "  </tbody>\n",
              "</table>\n",
              "</div>"
            ],
            "text/plain": [
              "                                    user_id         TENURE  ...  REGULARITY  CHURN\n",
              "0  00000bfd7d50f01092811bc0c8d7b0d6fe7c3596   K > 24 month  ...          54      0\n",
              "1  00000cb4a5d760de88fecb38e2f71b7bec52e834  I 18-21 month  ...           4      1\n",
              "2  00001654a9d9f96303d9969d0a4a851714a4bb57   K > 24 month  ...          17      0\n",
              "3  00001dd6fa45f7ba044bd5d84937be464ce78ac2   K > 24 month  ...          62      0\n",
              "4  000028d9e13a595abe061f9b58f3d76ab907850f   K > 24 month  ...          11      0\n",
              "\n",
              "[5 rows x 15 columns]"
            ]
          },
          "metadata": {
            "tags": []
          },
          "execution_count": 29
        }
      ]
    },
    {
      "cell_type": "code",
      "metadata": {
        "id": "ggsySQqIGAtp"
      },
      "source": [
        "test.drop(columns=['REGION', 'MRG', 'TOP_PACK','FREQ_TOP_PACK'], inplace=True)"
      ],
      "execution_count": null,
      "outputs": []
    },
    {
      "cell_type": "code",
      "metadata": {
        "colab": {
          "base_uri": "https://localhost:8080/",
          "height": 198
        },
        "id": "AmrJZtDoGAt3",
        "outputId": "a7eedfd7-5e0d-4bc4-9bfd-baf97960643e"
      },
      "source": [
        "test.head()"
      ],
      "execution_count": null,
      "outputs": [
        {
          "output_type": "execute_result",
          "data": {
            "text/html": [
              "<div>\n",
              "<style scoped>\n",
              "    .dataframe tbody tr th:only-of-type {\n",
              "        vertical-align: middle;\n",
              "    }\n",
              "\n",
              "    .dataframe tbody tr th {\n",
              "        vertical-align: top;\n",
              "    }\n",
              "\n",
              "    .dataframe thead th {\n",
              "        text-align: right;\n",
              "    }\n",
              "</style>\n",
              "<table border=\"1\" class=\"dataframe\">\n",
              "  <thead>\n",
              "    <tr style=\"text-align: right;\">\n",
              "      <th></th>\n",
              "      <th>user_id</th>\n",
              "      <th>TENURE</th>\n",
              "      <th>MONTANT</th>\n",
              "      <th>FREQUENCE_RECH</th>\n",
              "      <th>REVENUE</th>\n",
              "      <th>ARPU_SEGMENT</th>\n",
              "      <th>FREQUENCE</th>\n",
              "      <th>DATA_VOLUME</th>\n",
              "      <th>ON_NET</th>\n",
              "      <th>ORANGE</th>\n",
              "      <th>TIGO</th>\n",
              "      <th>ZONE1</th>\n",
              "      <th>ZONE2</th>\n",
              "      <th>REGULARITY</th>\n",
              "    </tr>\n",
              "  </thead>\n",
              "  <tbody>\n",
              "    <tr>\n",
              "      <th>0</th>\n",
              "      <td>00001dbe00e56fc4b1c1b65dda63de2a5ece55f9</td>\n",
              "      <td>K &gt; 24 month</td>\n",
              "      <td>5000.0</td>\n",
              "      <td>5.0</td>\n",
              "      <td>5000.0</td>\n",
              "      <td>1667.0</td>\n",
              "      <td>5.0</td>\n",
              "      <td>NaN</td>\n",
              "      <td>378.0</td>\n",
              "      <td>11.0</td>\n",
              "      <td>5.0</td>\n",
              "      <td>NaN</td>\n",
              "      <td>NaN</td>\n",
              "      <td>42</td>\n",
              "    </tr>\n",
              "    <tr>\n",
              "      <th>1</th>\n",
              "      <td>000055d41c8a62052dd426592e8a4a3342bf565d</td>\n",
              "      <td>I 18-21 month</td>\n",
              "      <td>300.0</td>\n",
              "      <td>2.0</td>\n",
              "      <td>326.0</td>\n",
              "      <td>109.0</td>\n",
              "      <td>3.0</td>\n",
              "      <td>397.0</td>\n",
              "      <td>NaN</td>\n",
              "      <td>0.0</td>\n",
              "      <td>NaN</td>\n",
              "      <td>NaN</td>\n",
              "      <td>NaN</td>\n",
              "      <td>41</td>\n",
              "    </tr>\n",
              "    <tr>\n",
              "      <th>2</th>\n",
              "      <td>000081dd3245e6869a4a9c574c7050e7bb84c2c8</td>\n",
              "      <td>K &gt; 24 month</td>\n",
              "      <td>3300.0</td>\n",
              "      <td>25.0</td>\n",
              "      <td>3400.0</td>\n",
              "      <td>1133.0</td>\n",
              "      <td>26.0</td>\n",
              "      <td>7150.0</td>\n",
              "      <td>0.0</td>\n",
              "      <td>2.0</td>\n",
              "      <td>5.0</td>\n",
              "      <td>NaN</td>\n",
              "      <td>NaN</td>\n",
              "      <td>57</td>\n",
              "    </tr>\n",
              "    <tr>\n",
              "      <th>3</th>\n",
              "      <td>0000b76d2145d9445d9ff6b65c9ebc4196c89337</td>\n",
              "      <td>K &gt; 24 month</td>\n",
              "      <td>NaN</td>\n",
              "      <td>NaN</td>\n",
              "      <td>NaN</td>\n",
              "      <td>NaN</td>\n",
              "      <td>NaN</td>\n",
              "      <td>NaN</td>\n",
              "      <td>NaN</td>\n",
              "      <td>NaN</td>\n",
              "      <td>NaN</td>\n",
              "      <td>NaN</td>\n",
              "      <td>NaN</td>\n",
              "      <td>9</td>\n",
              "    </tr>\n",
              "    <tr>\n",
              "      <th>4</th>\n",
              "      <td>0000bae5480628cf8fe51ad84bcb39772fc79224</td>\n",
              "      <td>K &gt; 24 month</td>\n",
              "      <td>NaN</td>\n",
              "      <td>NaN</td>\n",
              "      <td>NaN</td>\n",
              "      <td>NaN</td>\n",
              "      <td>NaN</td>\n",
              "      <td>NaN</td>\n",
              "      <td>NaN</td>\n",
              "      <td>NaN</td>\n",
              "      <td>NaN</td>\n",
              "      <td>NaN</td>\n",
              "      <td>NaN</td>\n",
              "      <td>10</td>\n",
              "    </tr>\n",
              "  </tbody>\n",
              "</table>\n",
              "</div>"
            ],
            "text/plain": [
              "                                    user_id         TENURE  ...  ZONE2  REGULARITY\n",
              "0  00001dbe00e56fc4b1c1b65dda63de2a5ece55f9   K > 24 month  ...    NaN          42\n",
              "1  000055d41c8a62052dd426592e8a4a3342bf565d  I 18-21 month  ...    NaN          41\n",
              "2  000081dd3245e6869a4a9c574c7050e7bb84c2c8   K > 24 month  ...    NaN          57\n",
              "3  0000b76d2145d9445d9ff6b65c9ebc4196c89337   K > 24 month  ...    NaN           9\n",
              "4  0000bae5480628cf8fe51ad84bcb39772fc79224   K > 24 month  ...    NaN          10\n",
              "\n",
              "[5 rows x 14 columns]"
            ]
          },
          "metadata": {
            "tags": []
          },
          "execution_count": 31
        }
      ]
    },
    {
      "cell_type": "code",
      "metadata": {
        "id": "TN3li-jcGAuL"
      },
      "source": [
        "#Fill NAs for train data"
      ],
      "execution_count": null,
      "outputs": []
    },
    {
      "cell_type": "code",
      "metadata": {
        "id": "c0SNA-WkGAuf"
      },
      "source": [
        "\n",
        "train['MONTANT'].fillna((train['MONTANT'].mean()), inplace=True)\n",
        "train['FREQUENCE_RECH'].fillna((train['FREQUENCE_RECH'].mean()), inplace=True)\n",
        "train['REVENUE'].fillna((train['REVENUE'].mean()), inplace=True)\n",
        "train['ARPU_SEGMENT'].fillna((train['ARPU_SEGMENT'].mean()), inplace=True)\n",
        "train['FREQUENCE'].fillna((train['FREQUENCE'].mean()), inplace=True)\n",
        "train['DATA_VOLUME'].fillna((train['DATA_VOLUME'].mean()), inplace=True)\n",
        "train['ON_NET'].fillna((train['ON_NET'].mean()), inplace=True)\n",
        "train['ORANGE'].fillna((train['ORANGE'].mean()), inplace=True)\n",
        "train['TIGO'].fillna((train['TIGO'].mean()), inplace=True)\n",
        "train['ZONE1'].fillna((train['ZONE1'].mean()), inplace=True)\n",
        "train['ZONE2'].fillna((train['ZONE2'].mean()), inplace=True)"
      ],
      "execution_count": null,
      "outputs": []
    },
    {
      "cell_type": "code",
      "metadata": {
        "id": "1WN4uFS5VIAm"
      },
      "source": [
        "#feature engineering\n",
        "#CTON is the total calls to other networks\n",
        "train['CTON'] = train['ORANGE'] + train['TIGO'] + train['ZONE1'] + train['ZONE2']\n",
        "#TC is the total calls made by a user\n",
        "train['TC'] = train['CTON'] + train['ON_NET']\n",
        "columns = ['ORANGE','TIGO','ZONE1','ZONE2']\n",
        "train.drop(columns = columns, inplace = True)\n",
        "#AVG_REFILL_90_DAYS is the average refill a customer makes in 90 days\n",
        "train['AVG_REFILL_90_DAYS'] = train['MONTANT'] / train['REGULARITY']"
      ],
      "execution_count": null,
      "outputs": []
    },
    {
      "cell_type": "code",
      "metadata": {
        "colab": {
          "base_uri": "https://localhost:8080/",
          "height": 198
        },
        "id": "geG6zo1gGAus",
        "outputId": "c82e1820-aad6-4436-e28f-de2bb37621cc"
      },
      "source": [
        "train.head()"
      ],
      "execution_count": null,
      "outputs": [
        {
          "output_type": "execute_result",
          "data": {
            "text/html": [
              "<div>\n",
              "<style scoped>\n",
              "    .dataframe tbody tr th:only-of-type {\n",
              "        vertical-align: middle;\n",
              "    }\n",
              "\n",
              "    .dataframe tbody tr th {\n",
              "        vertical-align: top;\n",
              "    }\n",
              "\n",
              "    .dataframe thead th {\n",
              "        text-align: right;\n",
              "    }\n",
              "</style>\n",
              "<table border=\"1\" class=\"dataframe\">\n",
              "  <thead>\n",
              "    <tr style=\"text-align: right;\">\n",
              "      <th></th>\n",
              "      <th>user_id</th>\n",
              "      <th>TENURE</th>\n",
              "      <th>MONTANT</th>\n",
              "      <th>FREQUENCE_RECH</th>\n",
              "      <th>REVENUE</th>\n",
              "      <th>ARPU_SEGMENT</th>\n",
              "      <th>FREQUENCE</th>\n",
              "      <th>DATA_VOLUME</th>\n",
              "      <th>ON_NET</th>\n",
              "      <th>REGULARITY</th>\n",
              "      <th>CHURN</th>\n",
              "      <th>CTON</th>\n",
              "      <th>TC</th>\n",
              "      <th>AVG_REFILL_90_DAYS</th>\n",
              "    </tr>\n",
              "  </thead>\n",
              "  <tbody>\n",
              "    <tr>\n",
              "      <th>0</th>\n",
              "      <td>00000bfd7d50f01092811bc0c8d7b0d6fe7c3596</td>\n",
              "      <td>K &gt; 24 month</td>\n",
              "      <td>4250.000000</td>\n",
              "      <td>15.00000</td>\n",
              "      <td>4251.000000</td>\n",
              "      <td>1417.000000</td>\n",
              "      <td>17.000000</td>\n",
              "      <td>4.000000</td>\n",
              "      <td>388.00000</td>\n",
              "      <td>54</td>\n",
              "      <td>0</td>\n",
              "      <td>50.000000</td>\n",
              "      <td>438.000000</td>\n",
              "      <td>78.703704</td>\n",
              "    </tr>\n",
              "    <tr>\n",
              "      <th>1</th>\n",
              "      <td>00000cb4a5d760de88fecb38e2f71b7bec52e834</td>\n",
              "      <td>I 18-21 month</td>\n",
              "      <td>5532.116998</td>\n",
              "      <td>11.52912</td>\n",
              "      <td>5510.810334</td>\n",
              "      <td>1836.942894</td>\n",
              "      <td>13.978141</td>\n",
              "      <td>3366.450167</td>\n",
              "      <td>277.68914</td>\n",
              "      <td>4</td>\n",
              "      <td>1</td>\n",
              "      <td>134.251405</td>\n",
              "      <td>411.940546</td>\n",
              "      <td>1383.029249</td>\n",
              "    </tr>\n",
              "    <tr>\n",
              "      <th>2</th>\n",
              "      <td>00001654a9d9f96303d9969d0a4a851714a4bb57</td>\n",
              "      <td>K &gt; 24 month</td>\n",
              "      <td>3600.000000</td>\n",
              "      <td>2.00000</td>\n",
              "      <td>1020.000000</td>\n",
              "      <td>340.000000</td>\n",
              "      <td>2.000000</td>\n",
              "      <td>3366.450167</td>\n",
              "      <td>90.00000</td>\n",
              "      <td>17</td>\n",
              "      <td>0</td>\n",
              "      <td>68.723442</td>\n",
              "      <td>158.723442</td>\n",
              "      <td>211.764706</td>\n",
              "    </tr>\n",
              "    <tr>\n",
              "      <th>3</th>\n",
              "      <td>00001dd6fa45f7ba044bd5d84937be464ce78ac2</td>\n",
              "      <td>K &gt; 24 month</td>\n",
              "      <td>13500.000000</td>\n",
              "      <td>15.00000</td>\n",
              "      <td>13502.000000</td>\n",
              "      <td>4501.000000</td>\n",
              "      <td>18.000000</td>\n",
              "      <td>43804.000000</td>\n",
              "      <td>41.00000</td>\n",
              "      <td>62</td>\n",
              "      <td>0</td>\n",
              "      <td>119.723442</td>\n",
              "      <td>160.723442</td>\n",
              "      <td>217.741935</td>\n",
              "    </tr>\n",
              "    <tr>\n",
              "      <th>4</th>\n",
              "      <td>000028d9e13a595abe061f9b58f3d76ab907850f</td>\n",
              "      <td>K &gt; 24 month</td>\n",
              "      <td>1000.000000</td>\n",
              "      <td>1.00000</td>\n",
              "      <td>985.000000</td>\n",
              "      <td>328.000000</td>\n",
              "      <td>1.000000</td>\n",
              "      <td>3366.450167</td>\n",
              "      <td>39.00000</td>\n",
              "      <td>11</td>\n",
              "      <td>0</td>\n",
              "      <td>62.832694</td>\n",
              "      <td>101.832694</td>\n",
              "      <td>90.909091</td>\n",
              "    </tr>\n",
              "  </tbody>\n",
              "</table>\n",
              "</div>"
            ],
            "text/plain": [
              "                                    user_id  ... AVG_REFILL_90_DAYS\n",
              "0  00000bfd7d50f01092811bc0c8d7b0d6fe7c3596  ...          78.703704\n",
              "1  00000cb4a5d760de88fecb38e2f71b7bec52e834  ...        1383.029249\n",
              "2  00001654a9d9f96303d9969d0a4a851714a4bb57  ...         211.764706\n",
              "3  00001dd6fa45f7ba044bd5d84937be464ce78ac2  ...         217.741935\n",
              "4  000028d9e13a595abe061f9b58f3d76ab907850f  ...          90.909091\n",
              "\n",
              "[5 rows x 14 columns]"
            ]
          },
          "metadata": {
            "tags": []
          },
          "execution_count": 35
        }
      ]
    },
    {
      "cell_type": "code",
      "metadata": {
        "colab": {
          "base_uri": "https://localhost:8080/"
        },
        "id": "MaqMtBN9GAvA",
        "outputId": "88ed9961-105d-4b56-987f-e6fc13190f3f"
      },
      "source": [
        "train.isnull().sum()"
      ],
      "execution_count": null,
      "outputs": [
        {
          "output_type": "execute_result",
          "data": {
            "text/plain": [
              "user_id               0\n",
              "TENURE                0\n",
              "MONTANT               0\n",
              "FREQUENCE_RECH        0\n",
              "REVENUE               0\n",
              "ARPU_SEGMENT          0\n",
              "FREQUENCE             0\n",
              "DATA_VOLUME           0\n",
              "ON_NET                0\n",
              "REGULARITY            0\n",
              "CHURN                 0\n",
              "CTON                  0\n",
              "TC                    0\n",
              "AVG_REFILL_90_DAYS    0\n",
              "dtype: int64"
            ]
          },
          "metadata": {
            "tags": []
          },
          "execution_count": 36
        }
      ]
    },
    {
      "cell_type": "code",
      "metadata": {
        "id": "A7H6Zcx1GAvW"
      },
      "source": [
        "#Fill NAs for test data"
      ],
      "execution_count": null,
      "outputs": []
    },
    {
      "cell_type": "code",
      "metadata": {
        "id": "aUf_3Gs5GAvk"
      },
      "source": [
        "test['MONTANT'].fillna((test['MONTANT'].mean()), inplace=True)\n",
        "test['FREQUENCE_RECH'].fillna((test['FREQUENCE_RECH'].mean()), inplace=True)\n",
        "test['REVENUE'].fillna((test['REVENUE'].mean()), inplace=True)\n",
        "test['ARPU_SEGMENT'].fillna((test['ARPU_SEGMENT'].mean()), inplace=True)\n",
        "test['FREQUENCE'].fillna((test['FREQUENCE'].mean()), inplace=True)\n",
        "test['DATA_VOLUME'].fillna((test['DATA_VOLUME'].mean()), inplace=True)\n",
        "test['ON_NET'].fillna((test['ON_NET'].mean()), inplace=True)\n",
        "test['ORANGE'].fillna((test['ORANGE'].mean()), inplace=True)\n",
        "test['TIGO'].fillna((test['TIGO'].mean()), inplace=True)\n",
        "test['ZONE1'].fillna((test['ZONE1'].mean()), inplace=True)\n",
        "test['ZONE2'].fillna((test['ZONE2'].mean()), inplace=True)\n"
      ],
      "execution_count": null,
      "outputs": []
    },
    {
      "cell_type": "code",
      "metadata": {
        "id": "GPGqAnH0Wu7B"
      },
      "source": [
        "#feature engineering\n",
        "test['CTON'] = test['ORANGE'] + test['TIGO'] + test['ZONE1'] + test['ZONE2']\n",
        "test['TC'] = test['CTON'] + test['ON_NET']\n",
        "columns = ['ORANGE','TIGO','ZONE1','ZONE2']\n",
        "test.drop(columns = columns, inplace = True)\n",
        "test['AVG_REFILL_90_DAYS'] = test['MONTANT'] / test['REGULARITY']"
      ],
      "execution_count": null,
      "outputs": []
    },
    {
      "cell_type": "code",
      "metadata": {
        "colab": {
          "base_uri": "https://localhost:8080/",
          "height": 198
        },
        "id": "U0zh_vLmGAvx",
        "outputId": "f41a0d1a-b149-4db3-fcb9-d5578528817e"
      },
      "source": [
        "test.head()"
      ],
      "execution_count": null,
      "outputs": [
        {
          "output_type": "execute_result",
          "data": {
            "text/html": [
              "<div>\n",
              "<style scoped>\n",
              "    .dataframe tbody tr th:only-of-type {\n",
              "        vertical-align: middle;\n",
              "    }\n",
              "\n",
              "    .dataframe tbody tr th {\n",
              "        vertical-align: top;\n",
              "    }\n",
              "\n",
              "    .dataframe thead th {\n",
              "        text-align: right;\n",
              "    }\n",
              "</style>\n",
              "<table border=\"1\" class=\"dataframe\">\n",
              "  <thead>\n",
              "    <tr style=\"text-align: right;\">\n",
              "      <th></th>\n",
              "      <th>user_id</th>\n",
              "      <th>TENURE</th>\n",
              "      <th>MONTANT</th>\n",
              "      <th>FREQUENCE_RECH</th>\n",
              "      <th>REVENUE</th>\n",
              "      <th>ARPU_SEGMENT</th>\n",
              "      <th>FREQUENCE</th>\n",
              "      <th>DATA_VOLUME</th>\n",
              "      <th>ON_NET</th>\n",
              "      <th>REGULARITY</th>\n",
              "      <th>CTON</th>\n",
              "      <th>TC</th>\n",
              "      <th>AVG_REFILL_90_DAYS</th>\n",
              "    </tr>\n",
              "  </thead>\n",
              "  <tbody>\n",
              "    <tr>\n",
              "      <th>0</th>\n",
              "      <td>00001dbe00e56fc4b1c1b65dda63de2a5ece55f9</td>\n",
              "      <td>K &gt; 24 month</td>\n",
              "      <td>5000.000000</td>\n",
              "      <td>5.000000</td>\n",
              "      <td>5000.000000</td>\n",
              "      <td>1667.000000</td>\n",
              "      <td>5.000000</td>\n",
              "      <td>3346.095454</td>\n",
              "      <td>378.00000</td>\n",
              "      <td>42</td>\n",
              "      <td>31.819963</td>\n",
              "      <td>409.819963</td>\n",
              "      <td>119.047619</td>\n",
              "    </tr>\n",
              "    <tr>\n",
              "      <th>1</th>\n",
              "      <td>000055d41c8a62052dd426592e8a4a3342bf565d</td>\n",
              "      <td>I 18-21 month</td>\n",
              "      <td>300.000000</td>\n",
              "      <td>2.000000</td>\n",
              "      <td>326.000000</td>\n",
              "      <td>109.000000</td>\n",
              "      <td>3.000000</td>\n",
              "      <td>397.000000</td>\n",
              "      <td>278.80631</td>\n",
              "      <td>41</td>\n",
              "      <td>38.872051</td>\n",
              "      <td>317.678361</td>\n",
              "      <td>7.317073</td>\n",
              "    </tr>\n",
              "    <tr>\n",
              "      <th>2</th>\n",
              "      <td>000081dd3245e6869a4a9c574c7050e7bb84c2c8</td>\n",
              "      <td>K &gt; 24 month</td>\n",
              "      <td>3300.000000</td>\n",
              "      <td>25.000000</td>\n",
              "      <td>3400.000000</td>\n",
              "      <td>1133.000000</td>\n",
              "      <td>26.000000</td>\n",
              "      <td>7150.000000</td>\n",
              "      <td>0.00000</td>\n",
              "      <td>57</td>\n",
              "      <td>22.819963</td>\n",
              "      <td>22.819963</td>\n",
              "      <td>57.894737</td>\n",
              "    </tr>\n",
              "    <tr>\n",
              "      <th>3</th>\n",
              "      <td>0000b76d2145d9445d9ff6b65c9ebc4196c89337</td>\n",
              "      <td>K &gt; 24 month</td>\n",
              "      <td>5524.958826</td>\n",
              "      <td>11.519853</td>\n",
              "      <td>5499.680468</td>\n",
              "      <td>1833.232443</td>\n",
              "      <td>13.957963</td>\n",
              "      <td>3346.095454</td>\n",
              "      <td>278.80631</td>\n",
              "      <td>9</td>\n",
              "      <td>134.065059</td>\n",
              "      <td>412.871369</td>\n",
              "      <td>613.884314</td>\n",
              "    </tr>\n",
              "    <tr>\n",
              "      <th>4</th>\n",
              "      <td>0000bae5480628cf8fe51ad84bcb39772fc79224</td>\n",
              "      <td>K &gt; 24 month</td>\n",
              "      <td>5524.958826</td>\n",
              "      <td>11.519853</td>\n",
              "      <td>5499.680468</td>\n",
              "      <td>1833.232443</td>\n",
              "      <td>13.957963</td>\n",
              "      <td>3346.095454</td>\n",
              "      <td>278.80631</td>\n",
              "      <td>10</td>\n",
              "      <td>134.065059</td>\n",
              "      <td>412.871369</td>\n",
              "      <td>552.495883</td>\n",
              "    </tr>\n",
              "  </tbody>\n",
              "</table>\n",
              "</div>"
            ],
            "text/plain": [
              "                                    user_id  ... AVG_REFILL_90_DAYS\n",
              "0  00001dbe00e56fc4b1c1b65dda63de2a5ece55f9  ...         119.047619\n",
              "1  000055d41c8a62052dd426592e8a4a3342bf565d  ...           7.317073\n",
              "2  000081dd3245e6869a4a9c574c7050e7bb84c2c8  ...          57.894737\n",
              "3  0000b76d2145d9445d9ff6b65c9ebc4196c89337  ...         613.884314\n",
              "4  0000bae5480628cf8fe51ad84bcb39772fc79224  ...         552.495883\n",
              "\n",
              "[5 rows x 13 columns]"
            ]
          },
          "metadata": {
            "tags": []
          },
          "execution_count": 40
        }
      ]
    },
    {
      "cell_type": "code",
      "metadata": {
        "colab": {
          "base_uri": "https://localhost:8080/"
        },
        "id": "nN8w7LboGAv-",
        "outputId": "d9950340-8e3c-4056-8f21-a709b48c097b"
      },
      "source": [
        "test.isnull().sum()"
      ],
      "execution_count": null,
      "outputs": [
        {
          "output_type": "execute_result",
          "data": {
            "text/plain": [
              "user_id               0\n",
              "TENURE                0\n",
              "MONTANT               0\n",
              "FREQUENCE_RECH        0\n",
              "REVENUE               0\n",
              "ARPU_SEGMENT          0\n",
              "FREQUENCE             0\n",
              "DATA_VOLUME           0\n",
              "ON_NET                0\n",
              "REGULARITY            0\n",
              "CTON                  0\n",
              "TC                    0\n",
              "AVG_REFILL_90_DAYS    0\n",
              "dtype: int64"
            ]
          },
          "metadata": {
            "tags": []
          },
          "execution_count": 41
        }
      ]
    },
    {
      "cell_type": "markdown",
      "metadata": {
        "id": "cW9WBBg0GAwL"
      },
      "source": [
        "## Machine Learning"
      ]
    },
    {
      "cell_type": "code",
      "metadata": {
        "id": "N4UJ9Z8IGAwN"
      },
      "source": [
        "\n",
        "from sklearn.model_selection import train_test_split,cross_val_score,GridSearchCV\n",
        "from sklearn.metrics import accuracy_score,confusion_matrix,recall_score,precision_recall_curve, f1_score\n",
        "from sklearn.preprocessing import StandardScaler\n",
        "import xgboost as xgb\n",
        "from sklearn.pipeline import Pipeline\n",
        "from sklearn.preprocessing import LabelEncoder\n",
        "from sklearn.preprocessing import OneHotEncoder"
      ],
      "execution_count": null,
      "outputs": []
    },
    {
      "cell_type": "code",
      "metadata": {
        "colab": {
          "base_uri": "https://localhost:8080/"
        },
        "id": "KvReJVEAGAwh",
        "outputId": "d05fa6d8-2b93-4860-b109-753fb53df795"
      },
      "source": [
        "dropcols = ['user_id', 'CHURN']\n",
        "y = train['CHURN']\n",
        "x = train.drop(columns=dropcols, axis=1)\n",
        "test = test.drop(columns=['user_id'], axis=1) #you will use this for predicting and submitting the resulting\n",
        "print(x.shape)\n",
        "print(y.shape)\n",
        "print(test.shape)"
      ],
      "execution_count": null,
      "outputs": [
        {
          "output_type": "stream",
          "text": [
            "(2154048, 12)\n",
            "(2154048,)\n",
            "(380127, 12)\n"
          ],
          "name": "stdout"
        }
      ]
    },
    {
      "cell_type": "code",
      "metadata": {
        "id": "EuEYqteuGAwx"
      },
      "source": [
        "#Split training data into train and test split"
      ],
      "execution_count": null,
      "outputs": []
    },
    {
      "cell_type": "code",
      "metadata": {
        "colab": {
          "base_uri": "https://localhost:8080/"
        },
        "id": "pA-dVQPlGAxD",
        "outputId": "5d2837ed-81f7-4223-f52f-518cefaf420b"
      },
      "source": [
        "X_train,X_test,y_train,y_test = train_test_split(x,y,test_size = 0.3,random_state=1)\n",
        "print(X_train.shape)\n",
        "print(y_train.shape)\n",
        "\n",
        "print(X_test.shape)\n",
        "print(y_test.shape)"
      ],
      "execution_count": null,
      "outputs": [
        {
          "output_type": "stream",
          "text": [
            "(1507833, 12)\n",
            "(1507833,)\n",
            "(646215, 12)\n",
            "(646215,)\n"
          ],
          "name": "stdout"
        }
      ]
    },
    {
      "cell_type": "code",
      "metadata": {
        "id": "r_thqtKNGAyG"
      },
      "source": [
        "#Standardize numeric columns"
      ],
      "execution_count": null,
      "outputs": []
    },
    {
      "cell_type": "code",
      "metadata": {
        "id": "-JDLE_ztGAyX"
      },
      "source": [
        "\n",
        "num_cols = ['MONTANT', 'FREQUENCE_RECH', 'REVENUE', 'ARPU_SEGMENT', 'FREQUENCE',\n",
        "       'DATA_VOLUME', 'ON_NET', 'AVG_REFILL_90_DAYS', 'CTON', 'TC', 'REGULARITY']"
      ],
      "execution_count": null,
      "outputs": []
    },
    {
      "cell_type": "code",
      "metadata": {
        "id": "E_RyDTe4GAyr"
      },
      "source": [
        "\n",
        "scaler = StandardScaler()"
      ],
      "execution_count": null,
      "outputs": []
    },
    {
      "cell_type": "code",
      "metadata": {
        "id": "s0oGHW6QGAy3"
      },
      "source": [
        "X_train[num_cols] = scaler.fit_transform(X_train[num_cols])"
      ],
      "execution_count": null,
      "outputs": []
    },
    {
      "cell_type": "code",
      "metadata": {
        "colab": {
          "base_uri": "https://localhost:8080/",
          "height": 198
        },
        "id": "YMnxTD8pGAzC",
        "outputId": "33e01a39-5ed7-452f-9149-3a041c452325"
      },
      "source": [
        "X_train.head()"
      ],
      "execution_count": null,
      "outputs": [
        {
          "output_type": "execute_result",
          "data": {
            "text/html": [
              "<div>\n",
              "<style scoped>\n",
              "    .dataframe tbody tr th:only-of-type {\n",
              "        vertical-align: middle;\n",
              "    }\n",
              "\n",
              "    .dataframe tbody tr th {\n",
              "        vertical-align: top;\n",
              "    }\n",
              "\n",
              "    .dataframe thead th {\n",
              "        text-align: right;\n",
              "    }\n",
              "</style>\n",
              "<table border=\"1\" class=\"dataframe\">\n",
              "  <thead>\n",
              "    <tr style=\"text-align: right;\">\n",
              "      <th></th>\n",
              "      <th>TENURE</th>\n",
              "      <th>MONTANT</th>\n",
              "      <th>FREQUENCE_RECH</th>\n",
              "      <th>REVENUE</th>\n",
              "      <th>ARPU_SEGMENT</th>\n",
              "      <th>FREQUENCE</th>\n",
              "      <th>DATA_VOLUME</th>\n",
              "      <th>ON_NET</th>\n",
              "      <th>REGULARITY</th>\n",
              "      <th>CTON</th>\n",
              "      <th>TC</th>\n",
              "      <th>AVG_REFILL_90_DAYS</th>\n",
              "    </tr>\n",
              "  </thead>\n",
              "  <tbody>\n",
              "    <tr>\n",
              "      <th>1688519</th>\n",
              "      <td>K &gt; 24 month</td>\n",
              "      <td>2.349350</td>\n",
              "      <td>4.813555</td>\n",
              "      <td>2.369140</td>\n",
              "      <td>2.368971</td>\n",
              "      <td>4.348186</td>\n",
              "      <td>-0.000587</td>\n",
              "      <td>7.923757</td>\n",
              "      <td>1.523261</td>\n",
              "      <td>0.244164</td>\n",
              "      <td>7.361817</td>\n",
              "      <td>-0.362017</td>\n",
              "    </tr>\n",
              "    <tr>\n",
              "      <th>1639889</th>\n",
              "      <td>K &gt; 24 month</td>\n",
              "      <td>0.255895</td>\n",
              "      <td>3.223659</td>\n",
              "      <td>0.306102</td>\n",
              "      <td>0.306270</td>\n",
              "      <td>3.846678</td>\n",
              "      <td>0.071149</td>\n",
              "      <td>-0.385613</td>\n",
              "      <td>1.254087</td>\n",
              "      <td>-0.520580</td>\n",
              "      <td>-0.477810</td>\n",
              "      <td>-0.478402</td>\n",
              "    </tr>\n",
              "    <tr>\n",
              "      <th>444059</th>\n",
              "      <td>K &gt; 24 month</td>\n",
              "      <td>-0.790832</td>\n",
              "      <td>-0.984888</td>\n",
              "      <td>-0.769947</td>\n",
              "      <td>-0.770122</td>\n",
              "      <td>-1.084819</td>\n",
              "      <td>-0.319179</td>\n",
              "      <td>-0.000144</td>\n",
              "      <td>-1.168483</td>\n",
              "      <td>-0.000481</td>\n",
              "      <td>-0.000246</td>\n",
              "      <td>-0.237874</td>\n",
              "    </tr>\n",
              "    <tr>\n",
              "      <th>1424683</th>\n",
              "      <td>K &gt; 24 month</td>\n",
              "      <td>-0.000184</td>\n",
              "      <td>-0.000171</td>\n",
              "      <td>-0.000349</td>\n",
              "      <td>-0.000349</td>\n",
              "      <td>-0.000045</td>\n",
              "      <td>-0.244380</td>\n",
              "      <td>-0.000144</td>\n",
              "      <td>-1.078758</td>\n",
              "      <td>-0.000481</td>\n",
              "      <td>-0.000246</td>\n",
              "      <td>0.328507</td>\n",
              "    </tr>\n",
              "    <tr>\n",
              "      <th>1046167</th>\n",
              "      <td>K &gt; 24 month</td>\n",
              "      <td>-0.000184</td>\n",
              "      <td>-0.000171</td>\n",
              "      <td>-0.000349</td>\n",
              "      <td>-0.000349</td>\n",
              "      <td>-0.000045</td>\n",
              "      <td>-0.000587</td>\n",
              "      <td>-0.000144</td>\n",
              "      <td>-0.719859</td>\n",
              "      <td>-0.000481</td>\n",
              "      <td>-0.000246</td>\n",
              "      <td>-0.262883</td>\n",
              "    </tr>\n",
              "  </tbody>\n",
              "</table>\n",
              "</div>"
            ],
            "text/plain": [
              "               TENURE   MONTANT  ...        TC  AVG_REFILL_90_DAYS\n",
              "1688519  K > 24 month  2.349350  ...  7.361817           -0.362017\n",
              "1639889  K > 24 month  0.255895  ... -0.477810           -0.478402\n",
              "444059   K > 24 month -0.790832  ... -0.000246           -0.237874\n",
              "1424683  K > 24 month -0.000184  ... -0.000246            0.328507\n",
              "1046167  K > 24 month -0.000184  ... -0.000246           -0.262883\n",
              "\n",
              "[5 rows x 12 columns]"
            ]
          },
          "metadata": {
            "tags": []
          },
          "execution_count": 50
        }
      ]
    },
    {
      "cell_type": "code",
      "metadata": {
        "id": "YAJYKMpfGAzV"
      },
      "source": [
        "X_test[num_cols] = scaler.transform(X_test[num_cols])"
      ],
      "execution_count": null,
      "outputs": []
    },
    {
      "cell_type": "code",
      "metadata": {
        "colab": {
          "base_uri": "https://localhost:8080/",
          "height": 198
        },
        "id": "5r2Q9WlJGAzm",
        "outputId": "5d54daf6-cf3e-4da3-e591-6a8a1dc75d5a"
      },
      "source": [
        "\n",
        "X_test.head()"
      ],
      "execution_count": null,
      "outputs": [
        {
          "output_type": "execute_result",
          "data": {
            "text/html": [
              "<div>\n",
              "<style scoped>\n",
              "    .dataframe tbody tr th:only-of-type {\n",
              "        vertical-align: middle;\n",
              "    }\n",
              "\n",
              "    .dataframe tbody tr th {\n",
              "        vertical-align: top;\n",
              "    }\n",
              "\n",
              "    .dataframe thead th {\n",
              "        text-align: right;\n",
              "    }\n",
              "</style>\n",
              "<table border=\"1\" class=\"dataframe\">\n",
              "  <thead>\n",
              "    <tr style=\"text-align: right;\">\n",
              "      <th></th>\n",
              "      <th>TENURE</th>\n",
              "      <th>MONTANT</th>\n",
              "      <th>FREQUENCE_RECH</th>\n",
              "      <th>REVENUE</th>\n",
              "      <th>ARPU_SEGMENT</th>\n",
              "      <th>FREQUENCE</th>\n",
              "      <th>DATA_VOLUME</th>\n",
              "      <th>ON_NET</th>\n",
              "      <th>REGULARITY</th>\n",
              "      <th>CTON</th>\n",
              "      <th>TC</th>\n",
              "      <th>AVG_REFILL_90_DAYS</th>\n",
              "    </tr>\n",
              "  </thead>\n",
              "  <tbody>\n",
              "    <tr>\n",
              "      <th>417912</th>\n",
              "      <td>K &gt; 24 month</td>\n",
              "      <td>5.489531</td>\n",
              "      <td>0.885577</td>\n",
              "      <td>5.559411</td>\n",
              "      <td>5.559247</td>\n",
              "      <td>1.004798</td>\n",
              "      <td>-0.162195</td>\n",
              "      <td>1.499489</td>\n",
              "      <td>1.523261</td>\n",
              "      <td>6.884776</td>\n",
              "      <td>3.000217</td>\n",
              "      <td>-0.175803</td>\n",
              "    </tr>\n",
              "    <tr>\n",
              "      <th>1380278</th>\n",
              "      <td>K &gt; 24 month</td>\n",
              "      <td>-0.354696</td>\n",
              "      <td>-0.423749</td>\n",
              "      <td>-0.343417</td>\n",
              "      <td>-0.343250</td>\n",
              "      <td>-0.583311</td>\n",
              "      <td>-0.000587</td>\n",
              "      <td>-0.355486</td>\n",
              "      <td>-0.226372</td>\n",
              "      <td>-0.121633</td>\n",
              "      <td>-0.356285</td>\n",
              "      <td>-0.460972</td>\n",
              "    </tr>\n",
              "    <tr>\n",
              "      <th>657158</th>\n",
              "      <td>K &gt; 24 month</td>\n",
              "      <td>-0.000184</td>\n",
              "      <td>-0.000171</td>\n",
              "      <td>-0.000349</td>\n",
              "      <td>-0.000349</td>\n",
              "      <td>-0.000045</td>\n",
              "      <td>-0.000587</td>\n",
              "      <td>-0.000144</td>\n",
              "      <td>-0.181510</td>\n",
              "      <td>-0.000481</td>\n",
              "      <td>-0.000246</td>\n",
              "      <td>-0.410730</td>\n",
              "    </tr>\n",
              "    <tr>\n",
              "      <th>228934</th>\n",
              "      <td>I 18-21 month</td>\n",
              "      <td>-0.000184</td>\n",
              "      <td>-0.000171</td>\n",
              "      <td>-0.000349</td>\n",
              "      <td>-0.000349</td>\n",
              "      <td>-0.000045</td>\n",
              "      <td>-0.000587</td>\n",
              "      <td>-0.000144</td>\n",
              "      <td>-1.213345</td>\n",
              "      <td>-0.000481</td>\n",
              "      <td>-0.000246</td>\n",
              "      <td>2.989759</td>\n",
              "    </tr>\n",
              "    <tr>\n",
              "      <th>2020145</th>\n",
              "      <td>K &gt; 24 month</td>\n",
              "      <td>2.192340</td>\n",
              "      <td>0.417961</td>\n",
              "      <td>2.147516</td>\n",
              "      <td>2.147345</td>\n",
              "      <td>0.252536</td>\n",
              "      <td>-0.000587</td>\n",
              "      <td>0.119376</td>\n",
              "      <td>1.119500</td>\n",
              "      <td>0.446759</td>\n",
              "      <td>0.215035</td>\n",
              "      <td>-0.339531</td>\n",
              "    </tr>\n",
              "  </tbody>\n",
              "</table>\n",
              "</div>"
            ],
            "text/plain": [
              "                TENURE   MONTANT  ...        TC  AVG_REFILL_90_DAYS\n",
              "417912    K > 24 month  5.489531  ...  3.000217           -0.175803\n",
              "1380278   K > 24 month -0.354696  ... -0.356285           -0.460972\n",
              "657158    K > 24 month -0.000184  ... -0.000246           -0.410730\n",
              "228934   I 18-21 month -0.000184  ... -0.000246            2.989759\n",
              "2020145   K > 24 month  2.192340  ...  0.215035           -0.339531\n",
              "\n",
              "[5 rows x 12 columns]"
            ]
          },
          "metadata": {
            "tags": []
          },
          "execution_count": 52
        }
      ]
    },
    {
      "cell_type": "code",
      "metadata": {
        "id": "m6Wl43hnGAz1"
      },
      "source": [
        "test[num_cols] = scaler.transform(test[num_cols])"
      ],
      "execution_count": null,
      "outputs": []
    },
    {
      "cell_type": "code",
      "metadata": {
        "colab": {
          "base_uri": "https://localhost:8080/",
          "height": 198
        },
        "id": "C48kyNuzGA0C",
        "outputId": "ca70a528-de6a-4de6-c22c-21d651d21d15"
      },
      "source": [
        "test.head()"
      ],
      "execution_count": null,
      "outputs": [
        {
          "output_type": "execute_result",
          "data": {
            "text/html": [
              "<div>\n",
              "<style scoped>\n",
              "    .dataframe tbody tr th:only-of-type {\n",
              "        vertical-align: middle;\n",
              "    }\n",
              "\n",
              "    .dataframe tbody tr th {\n",
              "        vertical-align: top;\n",
              "    }\n",
              "\n",
              "    .dataframe thead th {\n",
              "        text-align: right;\n",
              "    }\n",
              "</style>\n",
              "<table border=\"1\" class=\"dataframe\">\n",
              "  <thead>\n",
              "    <tr style=\"text-align: right;\">\n",
              "      <th></th>\n",
              "      <th>TENURE</th>\n",
              "      <th>MONTANT</th>\n",
              "      <th>FREQUENCE_RECH</th>\n",
              "      <th>REVENUE</th>\n",
              "      <th>ARPU_SEGMENT</th>\n",
              "      <th>FREQUENCE</th>\n",
              "      <th>DATA_VOLUME</th>\n",
              "      <th>ON_NET</th>\n",
              "      <th>REGULARITY</th>\n",
              "      <th>CTON</th>\n",
              "      <th>TC</th>\n",
              "      <th>AVG_REFILL_90_DAYS</th>\n",
              "    </tr>\n",
              "  </thead>\n",
              "  <tbody>\n",
              "    <tr>\n",
              "      <th>0</th>\n",
              "      <td>K &gt; 24 month</td>\n",
              "      <td>-0.093014</td>\n",
              "      <td>-0.610795</td>\n",
              "      <td>-0.087499</td>\n",
              "      <td>-0.087332</td>\n",
              "      <td>-0.750480</td>\n",
              "      <td>-0.002704</td>\n",
              "      <td>0.143765</td>\n",
              "      <td>0.626013</td>\n",
              "      <td>-0.576928</td>\n",
              "      <td>-0.003050</td>\n",
              "      <td>-0.482220</td>\n",
              "    </tr>\n",
              "    <tr>\n",
              "      <th>1</th>\n",
              "      <td>I 18-21 month</td>\n",
              "      <td>-0.912950</td>\n",
              "      <td>-0.891365</td>\n",
              "      <td>-0.884939</td>\n",
              "      <td>-0.884773</td>\n",
              "      <td>-0.917650</td>\n",
              "      <td>-0.309504</td>\n",
              "      <td>0.001459</td>\n",
              "      <td>0.581151</td>\n",
              "      <td>-0.537242</td>\n",
              "      <td>-0.124907</td>\n",
              "      <td>-0.553884</td>\n",
              "    </tr>\n",
              "    <tr>\n",
              "      <th>2</th>\n",
              "      <td>K &gt; 24 month</td>\n",
              "      <td>-0.389587</td>\n",
              "      <td>1.259670</td>\n",
              "      <td>-0.360478</td>\n",
              "      <td>-0.360653</td>\n",
              "      <td>1.004798</td>\n",
              "      <td>0.393024</td>\n",
              "      <td>-0.398525</td>\n",
              "      <td>1.298949</td>\n",
              "      <td>-0.627577</td>\n",
              "      <td>-0.514857</td>\n",
              "      <td>-0.521443</td>\n",
              "    </tr>\n",
              "    <tr>\n",
              "      <th>3</th>\n",
              "      <td>K &gt; 24 month</td>\n",
              "      <td>-0.001433</td>\n",
              "      <td>-0.001037</td>\n",
              "      <td>-0.002248</td>\n",
              "      <td>-0.002248</td>\n",
              "      <td>-0.001732</td>\n",
              "      <td>-0.002704</td>\n",
              "      <td>0.001459</td>\n",
              "      <td>-0.854446</td>\n",
              "      <td>-0.001530</td>\n",
              "      <td>0.000985</td>\n",
              "      <td>-0.164828</td>\n",
              "    </tr>\n",
              "    <tr>\n",
              "      <th>4</th>\n",
              "      <td>K &gt; 24 month</td>\n",
              "      <td>-0.001433</td>\n",
              "      <td>-0.001037</td>\n",
              "      <td>-0.002248</td>\n",
              "      <td>-0.002248</td>\n",
              "      <td>-0.001732</td>\n",
              "      <td>-0.002704</td>\n",
              "      <td>0.001459</td>\n",
              "      <td>-0.809583</td>\n",
              "      <td>-0.001530</td>\n",
              "      <td>0.000985</td>\n",
              "      <td>-0.204203</td>\n",
              "    </tr>\n",
              "  </tbody>\n",
              "</table>\n",
              "</div>"
            ],
            "text/plain": [
              "          TENURE   MONTANT  ...        TC  AVG_REFILL_90_DAYS\n",
              "0   K > 24 month -0.093014  ... -0.003050           -0.482220\n",
              "1  I 18-21 month -0.912950  ... -0.124907           -0.553884\n",
              "2   K > 24 month -0.389587  ... -0.514857           -0.521443\n",
              "3   K > 24 month -0.001433  ...  0.000985           -0.164828\n",
              "4   K > 24 month -0.001433  ...  0.000985           -0.204203\n",
              "\n",
              "[5 rows x 12 columns]"
            ]
          },
          "metadata": {
            "tags": []
          },
          "execution_count": 54
        }
      ]
    },
    {
      "cell_type": "code",
      "metadata": {
        "id": "VPWEC7OnGA0x"
      },
      "source": [
        "#Encode the TENURE column"
      ],
      "execution_count": null,
      "outputs": []
    },
    {
      "cell_type": "code",
      "metadata": {
        "id": "JOFYQSEjGA1A"
      },
      "source": [
        "encoder = LabelEncoder()\n",
        "X_train[\"TENURE\"] = encoder.fit_transform(X_train[\"TENURE\"])\n",
        "X_train['TENURE'] = pd.get_dummies(X_train['TENURE'])"
      ],
      "execution_count": null,
      "outputs": []
    },
    {
      "cell_type": "code",
      "metadata": {
        "id": "xW9jKuoLGA1R"
      },
      "source": [
        "X_test[\"TENURE\"] = encoder.transform(X_test[\"TENURE\"])\n",
        "X_test['TENURE'] = pd.get_dummies(X_test['TENURE'])"
      ],
      "execution_count": null,
      "outputs": []
    },
    {
      "cell_type": "code",
      "metadata": {
        "id": "V7w3cjpOGA1m"
      },
      "source": [
        "test['TENURE'] = encoder.fit_transform(test[\"TENURE\"])\n",
        "test['TENURE'] = pd.get_dummies(test['TENURE'])"
      ],
      "execution_count": null,
      "outputs": []
    },
    {
      "cell_type": "code",
      "metadata": {
        "colab": {
          "base_uri": "https://localhost:8080/",
          "height": 198
        },
        "id": "T5NLfxSGGA1w",
        "outputId": "e05a67ba-84e2-4cd4-9d26-0cfec25af781"
      },
      "source": [
        "\n",
        "X_train.head()"
      ],
      "execution_count": null,
      "outputs": [
        {
          "output_type": "execute_result",
          "data": {
            "text/html": [
              "<div>\n",
              "<style scoped>\n",
              "    .dataframe tbody tr th:only-of-type {\n",
              "        vertical-align: middle;\n",
              "    }\n",
              "\n",
              "    .dataframe tbody tr th {\n",
              "        vertical-align: top;\n",
              "    }\n",
              "\n",
              "    .dataframe thead th {\n",
              "        text-align: right;\n",
              "    }\n",
              "</style>\n",
              "<table border=\"1\" class=\"dataframe\">\n",
              "  <thead>\n",
              "    <tr style=\"text-align: right;\">\n",
              "      <th></th>\n",
              "      <th>TENURE</th>\n",
              "      <th>MONTANT</th>\n",
              "      <th>FREQUENCE_RECH</th>\n",
              "      <th>REVENUE</th>\n",
              "      <th>ARPU_SEGMENT</th>\n",
              "      <th>FREQUENCE</th>\n",
              "      <th>DATA_VOLUME</th>\n",
              "      <th>ON_NET</th>\n",
              "      <th>REGULARITY</th>\n",
              "      <th>CTON</th>\n",
              "      <th>TC</th>\n",
              "      <th>AVG_REFILL_90_DAYS</th>\n",
              "    </tr>\n",
              "  </thead>\n",
              "  <tbody>\n",
              "    <tr>\n",
              "      <th>1688519</th>\n",
              "      <td>0</td>\n",
              "      <td>2.349350</td>\n",
              "      <td>4.813555</td>\n",
              "      <td>2.369140</td>\n",
              "      <td>2.368971</td>\n",
              "      <td>4.348186</td>\n",
              "      <td>-0.000587</td>\n",
              "      <td>7.923757</td>\n",
              "      <td>1.523261</td>\n",
              "      <td>0.244164</td>\n",
              "      <td>7.361817</td>\n",
              "      <td>-0.362017</td>\n",
              "    </tr>\n",
              "    <tr>\n",
              "      <th>1639889</th>\n",
              "      <td>0</td>\n",
              "      <td>0.255895</td>\n",
              "      <td>3.223659</td>\n",
              "      <td>0.306102</td>\n",
              "      <td>0.306270</td>\n",
              "      <td>3.846678</td>\n",
              "      <td>0.071149</td>\n",
              "      <td>-0.385613</td>\n",
              "      <td>1.254087</td>\n",
              "      <td>-0.520580</td>\n",
              "      <td>-0.477810</td>\n",
              "      <td>-0.478402</td>\n",
              "    </tr>\n",
              "    <tr>\n",
              "      <th>444059</th>\n",
              "      <td>0</td>\n",
              "      <td>-0.790832</td>\n",
              "      <td>-0.984888</td>\n",
              "      <td>-0.769947</td>\n",
              "      <td>-0.770122</td>\n",
              "      <td>-1.084819</td>\n",
              "      <td>-0.319179</td>\n",
              "      <td>-0.000144</td>\n",
              "      <td>-1.168483</td>\n",
              "      <td>-0.000481</td>\n",
              "      <td>-0.000246</td>\n",
              "      <td>-0.237874</td>\n",
              "    </tr>\n",
              "    <tr>\n",
              "      <th>1424683</th>\n",
              "      <td>0</td>\n",
              "      <td>-0.000184</td>\n",
              "      <td>-0.000171</td>\n",
              "      <td>-0.000349</td>\n",
              "      <td>-0.000349</td>\n",
              "      <td>-0.000045</td>\n",
              "      <td>-0.244380</td>\n",
              "      <td>-0.000144</td>\n",
              "      <td>-1.078758</td>\n",
              "      <td>-0.000481</td>\n",
              "      <td>-0.000246</td>\n",
              "      <td>0.328507</td>\n",
              "    </tr>\n",
              "    <tr>\n",
              "      <th>1046167</th>\n",
              "      <td>0</td>\n",
              "      <td>-0.000184</td>\n",
              "      <td>-0.000171</td>\n",
              "      <td>-0.000349</td>\n",
              "      <td>-0.000349</td>\n",
              "      <td>-0.000045</td>\n",
              "      <td>-0.000587</td>\n",
              "      <td>-0.000144</td>\n",
              "      <td>-0.719859</td>\n",
              "      <td>-0.000481</td>\n",
              "      <td>-0.000246</td>\n",
              "      <td>-0.262883</td>\n",
              "    </tr>\n",
              "  </tbody>\n",
              "</table>\n",
              "</div>"
            ],
            "text/plain": [
              "         TENURE   MONTANT  ...        TC  AVG_REFILL_90_DAYS\n",
              "1688519       0  2.349350  ...  7.361817           -0.362017\n",
              "1639889       0  0.255895  ... -0.477810           -0.478402\n",
              "444059        0 -0.790832  ... -0.000246           -0.237874\n",
              "1424683       0 -0.000184  ... -0.000246            0.328507\n",
              "1046167       0 -0.000184  ... -0.000246           -0.262883\n",
              "\n",
              "[5 rows x 12 columns]"
            ]
          },
          "metadata": {
            "tags": []
          },
          "execution_count": 59
        }
      ]
    },
    {
      "cell_type": "code",
      "metadata": {
        "id": "ZGxPTxwFN9Ho"
      },
      "source": [
        "from sklearn.ensemble import RandomForestClassifier"
      ],
      "execution_count": null,
      "outputs": []
    },
    {
      "cell_type": "code",
      "metadata": {
        "id": "sIxbo1_6OUGe",
        "colab": {
          "base_uri": "https://localhost:8080/"
        },
        "outputId": "34fe4fd2-0b31-422d-87f9-30edaadb2d21"
      },
      "source": [
        "rand = RandomForestClassifier()\n",
        "model = rand.fit(X_train,y_train)\n",
        "print(\"Training score: \",model.score(X_train,y_train))\n"
      ],
      "execution_count": null,
      "outputs": [
        {
          "output_type": "stream",
          "text": [
            "Training score:  0.9013564499516856\n"
          ],
          "name": "stdout"
        }
      ]
    },
    {
      "cell_type": "code",
      "metadata": {
        "colab": {
          "base_uri": "https://localhost:8080/"
        },
        "id": "YvBpdt1YVefx",
        "outputId": "a80d2ab7-d817-455a-e8a0-8219c77427bf"
      },
      "source": [
        "print(\"Test set score: \",model.score(X_test,y_test))"
      ],
      "execution_count": null,
      "outputs": [
        {
          "output_type": "stream",
          "text": [
            "Test set score:  0.8600047971650302\n"
          ],
          "name": "stdout"
        }
      ]
    },
    {
      "cell_type": "code",
      "metadata": {
        "colab": {
          "base_uri": "https://localhost:8080/"
        },
        "id": "FpoYzVrBxpWG",
        "outputId": "08279de6-fea8-4ce1-dca6-0be57ab3f57d"
      },
      "source": [
        "rand_preds = model.predict(X_test)\n",
        "print('Accuracy')\n",
        "print(accuracy_score(y_test, rand_preds))"
      ],
      "execution_count": null,
      "outputs": [
        {
          "output_type": "stream",
          "text": [
            "Accuracy\n",
            "0.8600047971650302\n"
          ],
          "name": "stdout"
        }
      ]
    },
    {
      "cell_type": "code",
      "metadata": {
        "colab": {
          "base_uri": "https://localhost:8080/"
        },
        "id": "Y62uvCYAyIpy",
        "outputId": "da0487ab-1270-4ac4-c338-75eafeaf2889"
      },
      "source": [
        "print(\"Recall\")\n",
        "recall_score(y_test, rand_preds)"
      ],
      "execution_count": null,
      "outputs": [
        {
          "output_type": "stream",
          "text": [
            "Recall\n"
          ],
          "name": "stdout"
        },
        {
          "output_type": "execute_result",
          "data": {
            "text/plain": [
              "0.5632222893210791"
            ]
          },
          "metadata": {
            "tags": []
          },
          "execution_count": 63
        }
      ]
    },
    {
      "cell_type": "code",
      "metadata": {
        "colab": {
          "base_uri": "https://localhost:8080/"
        },
        "id": "haSevv_AyNKo",
        "outputId": "a9dd0a3d-599d-43f7-8e5b-3457eb7d13a0"
      },
      "source": [
        "print(\"F1 Score\")\n",
        "f1_score(y_test, rand_preds)"
      ],
      "execution_count": null,
      "outputs": [
        {
          "output_type": "stream",
          "text": [
            "F1 Score\n"
          ],
          "name": "stdout"
        },
        {
          "output_type": "execute_result",
          "data": {
            "text/plain": [
              "0.6008251152734574"
            ]
          },
          "metadata": {
            "tags": []
          },
          "execution_count": 64
        }
      ]
    },
    {
      "cell_type": "code",
      "metadata": {
        "colab": {
          "base_uri": "https://localhost:8080/"
        },
        "id": "cRWfIh5PyUzZ",
        "outputId": "eb964875-d04f-4408-a71e-b80ef1c42994"
      },
      "source": [
        "print(confusion_matrix(y_test, rand_preds))"
      ],
      "execution_count": null,
      "outputs": [
        {
          "output_type": "stream",
          "text": [
            "[[487664  37668]\n",
            " [ 52799  68084]]\n"
          ],
          "name": "stdout"
        }
      ]
    },
    {
      "cell_type": "code",
      "metadata": {
        "id": "XMflZXyfGA1_"
      },
      "source": [
        "#creating xgboost pipeline"
      ],
      "execution_count": null,
      "outputs": []
    },
    {
      "cell_type": "code",
      "metadata": {
        "id": "ZMxgSUl0GA2P"
      },
      "source": [
        "xgb_cl = xgb.XGBClassifier(subsample=0.6, n_estimators=300, learning_rate=0.1)"
      ],
      "execution_count": null,
      "outputs": []
    },
    {
      "cell_type": "code",
      "metadata": {
        "colab": {
          "base_uri": "https://localhost:8080/"
        },
        "id": "PWhbSpZAAow2",
        "outputId": "2dda3a19-e7e1-4dae-ef50-b84fedace1a8"
      },
      "source": [
        "xgb_cl.fit(X_train,y_train)"
      ],
      "execution_count": null,
      "outputs": [
        {
          "output_type": "execute_result",
          "data": {
            "text/plain": [
              "XGBClassifier(base_score=0.5, booster='gbtree', colsample_bylevel=1,\n",
              "              colsample_bynode=1, colsample_bytree=1, gamma=0,\n",
              "              learning_rate=0.1, max_delta_step=0, max_depth=3,\n",
              "              min_child_weight=1, missing=None, n_estimators=300, n_jobs=1,\n",
              "              nthread=None, objective='binary:logistic', random_state=0,\n",
              "              reg_alpha=0, reg_lambda=1, scale_pos_weight=1, seed=None,\n",
              "              silent=None, subsample=0.6, verbosity=1)"
            ]
          },
          "metadata": {
            "tags": []
          },
          "execution_count": 68
        }
      ]
    },
    {
      "cell_type": "code",
      "metadata": {
        "id": "lGZ7DwHMGA2f"
      },
      "source": [
        "preds=xgb_cl.predict(X_test)"
      ],
      "execution_count": null,
      "outputs": []
    },
    {
      "cell_type": "code",
      "metadata": {
        "colab": {
          "base_uri": "https://localhost:8080/",
          "height": 395
        },
        "id": "d14WfHCsGA2q",
        "outputId": "69a502de-dc76-4d0d-c1a6-d113a515cb87"
      },
      "source": [
        "parameters = {'learning_rate': [0.001,0.01,0.01],\n",
        "              'n_estimators':[300],\n",
        "    'subsample': [0.3,0.4]\n",
        "}\n",
        "from sklearn.model_selection import RandomizedSearchCV\n",
        "r_cv = RandomizedSearchCV(xgb_cl,param_distributions=parameters,\n",
        "                       cv=3)\n",
        "r_cv.fit(X_train,y_train)\n",
        "print(r_cv.best_params_)\n",
        "print(np.sqrt(np.abs(r_cv.best_score_)))"
      ],
      "execution_count": null,
      "outputs": [
        {
          "output_type": "error",
          "ename": "KeyboardInterrupt",
          "evalue": "ignored",
          "traceback": [
            "\u001b[0;31m---------------------------------------------------------------------------\u001b[0m",
            "\u001b[0;31mKeyboardInterrupt\u001b[0m                         Traceback (most recent call last)",
            "\u001b[0;32m<ipython-input-70-82530449e509>\u001b[0m in \u001b[0;36m<module>\u001b[0;34m()\u001b[0m\n\u001b[1;32m      6\u001b[0m r_cv = RandomizedSearchCV(xgb_cl,param_distributions=parameters,\n\u001b[1;32m      7\u001b[0m                        cv=3)\n\u001b[0;32m----> 8\u001b[0;31m \u001b[0mr_cv\u001b[0m\u001b[0;34m.\u001b[0m\u001b[0mfit\u001b[0m\u001b[0;34m(\u001b[0m\u001b[0mX_train\u001b[0m\u001b[0;34m,\u001b[0m\u001b[0my_train\u001b[0m\u001b[0;34m)\u001b[0m\u001b[0;34m\u001b[0m\u001b[0;34m\u001b[0m\u001b[0m\n\u001b[0m\u001b[1;32m      9\u001b[0m \u001b[0mprint\u001b[0m\u001b[0;34m(\u001b[0m\u001b[0mr_cv\u001b[0m\u001b[0;34m.\u001b[0m\u001b[0mbest_params_\u001b[0m\u001b[0;34m)\u001b[0m\u001b[0;34m\u001b[0m\u001b[0;34m\u001b[0m\u001b[0m\n\u001b[1;32m     10\u001b[0m \u001b[0mprint\u001b[0m\u001b[0;34m(\u001b[0m\u001b[0mnp\u001b[0m\u001b[0;34m.\u001b[0m\u001b[0msqrt\u001b[0m\u001b[0;34m(\u001b[0m\u001b[0mnp\u001b[0m\u001b[0;34m.\u001b[0m\u001b[0mabs\u001b[0m\u001b[0;34m(\u001b[0m\u001b[0mr_cv\u001b[0m\u001b[0;34m.\u001b[0m\u001b[0mbest_score_\u001b[0m\u001b[0;34m)\u001b[0m\u001b[0;34m)\u001b[0m\u001b[0;34m)\u001b[0m\u001b[0;34m\u001b[0m\u001b[0;34m\u001b[0m\u001b[0m\n",
            "\u001b[0;32m/usr/local/lib/python3.7/dist-packages/sklearn/model_selection/_search.py\u001b[0m in \u001b[0;36mfit\u001b[0;34m(self, X, y, groups, **fit_params)\u001b[0m\n\u001b[1;32m    708\u001b[0m                 \u001b[0;32mreturn\u001b[0m \u001b[0mresults\u001b[0m\u001b[0;34m\u001b[0m\u001b[0;34m\u001b[0m\u001b[0m\n\u001b[1;32m    709\u001b[0m \u001b[0;34m\u001b[0m\u001b[0m\n\u001b[0;32m--> 710\u001b[0;31m             \u001b[0mself\u001b[0m\u001b[0;34m.\u001b[0m\u001b[0m_run_search\u001b[0m\u001b[0;34m(\u001b[0m\u001b[0mevaluate_candidates\u001b[0m\u001b[0;34m)\u001b[0m\u001b[0;34m\u001b[0m\u001b[0;34m\u001b[0m\u001b[0m\n\u001b[0m\u001b[1;32m    711\u001b[0m \u001b[0;34m\u001b[0m\u001b[0m\n\u001b[1;32m    712\u001b[0m         \u001b[0;31m# For multi-metric evaluation, store the best_index_, best_params_ and\u001b[0m\u001b[0;34m\u001b[0m\u001b[0;34m\u001b[0m\u001b[0;34m\u001b[0m\u001b[0m\n",
            "\u001b[0;32m/usr/local/lib/python3.7/dist-packages/sklearn/model_selection/_search.py\u001b[0m in \u001b[0;36m_run_search\u001b[0;34m(self, evaluate_candidates)\u001b[0m\n\u001b[1;32m   1482\u001b[0m         evaluate_candidates(ParameterSampler(\n\u001b[1;32m   1483\u001b[0m             \u001b[0mself\u001b[0m\u001b[0;34m.\u001b[0m\u001b[0mparam_distributions\u001b[0m\u001b[0;34m,\u001b[0m \u001b[0mself\u001b[0m\u001b[0;34m.\u001b[0m\u001b[0mn_iter\u001b[0m\u001b[0;34m,\u001b[0m\u001b[0;34m\u001b[0m\u001b[0;34m\u001b[0m\u001b[0m\n\u001b[0;32m-> 1484\u001b[0;31m             random_state=self.random_state))\n\u001b[0m",
            "\u001b[0;32m/usr/local/lib/python3.7/dist-packages/sklearn/model_selection/_search.py\u001b[0m in \u001b[0;36mevaluate_candidates\u001b[0;34m(candidate_params)\u001b[0m\n\u001b[1;32m    687\u001b[0m                                \u001b[0;32mfor\u001b[0m \u001b[0mparameters\u001b[0m\u001b[0;34m,\u001b[0m \u001b[0;34m(\u001b[0m\u001b[0mtrain\u001b[0m\u001b[0;34m,\u001b[0m \u001b[0mtest\u001b[0m\u001b[0;34m)\u001b[0m\u001b[0;34m\u001b[0m\u001b[0;34m\u001b[0m\u001b[0m\n\u001b[1;32m    688\u001b[0m                                in product(candidate_params,\n\u001b[0;32m--> 689\u001b[0;31m                                           cv.split(X, y, groups)))\n\u001b[0m\u001b[1;32m    690\u001b[0m \u001b[0;34m\u001b[0m\u001b[0m\n\u001b[1;32m    691\u001b[0m                 \u001b[0;32mif\u001b[0m \u001b[0mlen\u001b[0m\u001b[0;34m(\u001b[0m\u001b[0mout\u001b[0m\u001b[0;34m)\u001b[0m \u001b[0;34m<\u001b[0m \u001b[0;36m1\u001b[0m\u001b[0;34m:\u001b[0m\u001b[0;34m\u001b[0m\u001b[0;34m\u001b[0m\u001b[0m\n",
            "\u001b[0;32m/usr/local/lib/python3.7/dist-packages/joblib/parallel.py\u001b[0m in \u001b[0;36m__call__\u001b[0;34m(self, iterable)\u001b[0m\n\u001b[1;32m   1039\u001b[0m             \u001b[0;31m# remaining jobs.\u001b[0m\u001b[0;34m\u001b[0m\u001b[0;34m\u001b[0m\u001b[0;34m\u001b[0m\u001b[0m\n\u001b[1;32m   1040\u001b[0m             \u001b[0mself\u001b[0m\u001b[0;34m.\u001b[0m\u001b[0m_iterating\u001b[0m \u001b[0;34m=\u001b[0m \u001b[0;32mFalse\u001b[0m\u001b[0;34m\u001b[0m\u001b[0;34m\u001b[0m\u001b[0m\n\u001b[0;32m-> 1041\u001b[0;31m             \u001b[0;32mif\u001b[0m \u001b[0mself\u001b[0m\u001b[0;34m.\u001b[0m\u001b[0mdispatch_one_batch\u001b[0m\u001b[0;34m(\u001b[0m\u001b[0miterator\u001b[0m\u001b[0;34m)\u001b[0m\u001b[0;34m:\u001b[0m\u001b[0;34m\u001b[0m\u001b[0;34m\u001b[0m\u001b[0m\n\u001b[0m\u001b[1;32m   1042\u001b[0m                 \u001b[0mself\u001b[0m\u001b[0;34m.\u001b[0m\u001b[0m_iterating\u001b[0m \u001b[0;34m=\u001b[0m \u001b[0mself\u001b[0m\u001b[0;34m.\u001b[0m\u001b[0m_original_iterator\u001b[0m \u001b[0;32mis\u001b[0m \u001b[0;32mnot\u001b[0m \u001b[0;32mNone\u001b[0m\u001b[0;34m\u001b[0m\u001b[0;34m\u001b[0m\u001b[0m\n\u001b[1;32m   1043\u001b[0m \u001b[0;34m\u001b[0m\u001b[0m\n",
            "\u001b[0;32m/usr/local/lib/python3.7/dist-packages/joblib/parallel.py\u001b[0m in \u001b[0;36mdispatch_one_batch\u001b[0;34m(self, iterator)\u001b[0m\n\u001b[1;32m    857\u001b[0m                 \u001b[0;32mreturn\u001b[0m \u001b[0;32mFalse\u001b[0m\u001b[0;34m\u001b[0m\u001b[0;34m\u001b[0m\u001b[0m\n\u001b[1;32m    858\u001b[0m             \u001b[0;32melse\u001b[0m\u001b[0;34m:\u001b[0m\u001b[0;34m\u001b[0m\u001b[0;34m\u001b[0m\u001b[0m\n\u001b[0;32m--> 859\u001b[0;31m                 \u001b[0mself\u001b[0m\u001b[0;34m.\u001b[0m\u001b[0m_dispatch\u001b[0m\u001b[0;34m(\u001b[0m\u001b[0mtasks\u001b[0m\u001b[0;34m)\u001b[0m\u001b[0;34m\u001b[0m\u001b[0;34m\u001b[0m\u001b[0m\n\u001b[0m\u001b[1;32m    860\u001b[0m                 \u001b[0;32mreturn\u001b[0m \u001b[0;32mTrue\u001b[0m\u001b[0;34m\u001b[0m\u001b[0;34m\u001b[0m\u001b[0m\n\u001b[1;32m    861\u001b[0m \u001b[0;34m\u001b[0m\u001b[0m\n",
            "\u001b[0;32m/usr/local/lib/python3.7/dist-packages/joblib/parallel.py\u001b[0m in \u001b[0;36m_dispatch\u001b[0;34m(self, batch)\u001b[0m\n\u001b[1;32m    775\u001b[0m         \u001b[0;32mwith\u001b[0m \u001b[0mself\u001b[0m\u001b[0;34m.\u001b[0m\u001b[0m_lock\u001b[0m\u001b[0;34m:\u001b[0m\u001b[0;34m\u001b[0m\u001b[0;34m\u001b[0m\u001b[0m\n\u001b[1;32m    776\u001b[0m             \u001b[0mjob_idx\u001b[0m \u001b[0;34m=\u001b[0m \u001b[0mlen\u001b[0m\u001b[0;34m(\u001b[0m\u001b[0mself\u001b[0m\u001b[0;34m.\u001b[0m\u001b[0m_jobs\u001b[0m\u001b[0;34m)\u001b[0m\u001b[0;34m\u001b[0m\u001b[0;34m\u001b[0m\u001b[0m\n\u001b[0;32m--> 777\u001b[0;31m             \u001b[0mjob\u001b[0m \u001b[0;34m=\u001b[0m \u001b[0mself\u001b[0m\u001b[0;34m.\u001b[0m\u001b[0m_backend\u001b[0m\u001b[0;34m.\u001b[0m\u001b[0mapply_async\u001b[0m\u001b[0;34m(\u001b[0m\u001b[0mbatch\u001b[0m\u001b[0;34m,\u001b[0m \u001b[0mcallback\u001b[0m\u001b[0;34m=\u001b[0m\u001b[0mcb\u001b[0m\u001b[0;34m)\u001b[0m\u001b[0;34m\u001b[0m\u001b[0;34m\u001b[0m\u001b[0m\n\u001b[0m\u001b[1;32m    778\u001b[0m             \u001b[0;31m# A job can complete so quickly than its callback is\u001b[0m\u001b[0;34m\u001b[0m\u001b[0;34m\u001b[0m\u001b[0;34m\u001b[0m\u001b[0m\n\u001b[1;32m    779\u001b[0m             \u001b[0;31m# called before we get here, causing self._jobs to\u001b[0m\u001b[0;34m\u001b[0m\u001b[0;34m\u001b[0m\u001b[0;34m\u001b[0m\u001b[0m\n",
            "\u001b[0;32m/usr/local/lib/python3.7/dist-packages/joblib/_parallel_backends.py\u001b[0m in \u001b[0;36mapply_async\u001b[0;34m(self, func, callback)\u001b[0m\n\u001b[1;32m    206\u001b[0m     \u001b[0;32mdef\u001b[0m \u001b[0mapply_async\u001b[0m\u001b[0;34m(\u001b[0m\u001b[0mself\u001b[0m\u001b[0;34m,\u001b[0m \u001b[0mfunc\u001b[0m\u001b[0;34m,\u001b[0m \u001b[0mcallback\u001b[0m\u001b[0;34m=\u001b[0m\u001b[0;32mNone\u001b[0m\u001b[0;34m)\u001b[0m\u001b[0;34m:\u001b[0m\u001b[0;34m\u001b[0m\u001b[0;34m\u001b[0m\u001b[0m\n\u001b[1;32m    207\u001b[0m         \u001b[0;34m\"\"\"Schedule a func to be run\"\"\"\u001b[0m\u001b[0;34m\u001b[0m\u001b[0;34m\u001b[0m\u001b[0m\n\u001b[0;32m--> 208\u001b[0;31m         \u001b[0mresult\u001b[0m \u001b[0;34m=\u001b[0m \u001b[0mImmediateResult\u001b[0m\u001b[0;34m(\u001b[0m\u001b[0mfunc\u001b[0m\u001b[0;34m)\u001b[0m\u001b[0;34m\u001b[0m\u001b[0;34m\u001b[0m\u001b[0m\n\u001b[0m\u001b[1;32m    209\u001b[0m         \u001b[0;32mif\u001b[0m \u001b[0mcallback\u001b[0m\u001b[0;34m:\u001b[0m\u001b[0;34m\u001b[0m\u001b[0;34m\u001b[0m\u001b[0m\n\u001b[1;32m    210\u001b[0m             \u001b[0mcallback\u001b[0m\u001b[0;34m(\u001b[0m\u001b[0mresult\u001b[0m\u001b[0;34m)\u001b[0m\u001b[0;34m\u001b[0m\u001b[0;34m\u001b[0m\u001b[0m\n",
            "\u001b[0;32m/usr/local/lib/python3.7/dist-packages/joblib/_parallel_backends.py\u001b[0m in \u001b[0;36m__init__\u001b[0;34m(self, batch)\u001b[0m\n\u001b[1;32m    570\u001b[0m         \u001b[0;31m# Don't delay the application, to avoid keeping the input\u001b[0m\u001b[0;34m\u001b[0m\u001b[0;34m\u001b[0m\u001b[0;34m\u001b[0m\u001b[0m\n\u001b[1;32m    571\u001b[0m         \u001b[0;31m# arguments in memory\u001b[0m\u001b[0;34m\u001b[0m\u001b[0;34m\u001b[0m\u001b[0;34m\u001b[0m\u001b[0m\n\u001b[0;32m--> 572\u001b[0;31m         \u001b[0mself\u001b[0m\u001b[0;34m.\u001b[0m\u001b[0mresults\u001b[0m \u001b[0;34m=\u001b[0m \u001b[0mbatch\u001b[0m\u001b[0;34m(\u001b[0m\u001b[0;34m)\u001b[0m\u001b[0;34m\u001b[0m\u001b[0;34m\u001b[0m\u001b[0m\n\u001b[0m\u001b[1;32m    573\u001b[0m \u001b[0;34m\u001b[0m\u001b[0m\n\u001b[1;32m    574\u001b[0m     \u001b[0;32mdef\u001b[0m \u001b[0mget\u001b[0m\u001b[0;34m(\u001b[0m\u001b[0mself\u001b[0m\u001b[0;34m)\u001b[0m\u001b[0;34m:\u001b[0m\u001b[0;34m\u001b[0m\u001b[0;34m\u001b[0m\u001b[0m\n",
            "\u001b[0;32m/usr/local/lib/python3.7/dist-packages/joblib/parallel.py\u001b[0m in \u001b[0;36m__call__\u001b[0;34m(self)\u001b[0m\n\u001b[1;32m    261\u001b[0m         \u001b[0;32mwith\u001b[0m \u001b[0mparallel_backend\u001b[0m\u001b[0;34m(\u001b[0m\u001b[0mself\u001b[0m\u001b[0;34m.\u001b[0m\u001b[0m_backend\u001b[0m\u001b[0;34m,\u001b[0m \u001b[0mn_jobs\u001b[0m\u001b[0;34m=\u001b[0m\u001b[0mself\u001b[0m\u001b[0;34m.\u001b[0m\u001b[0m_n_jobs\u001b[0m\u001b[0;34m)\u001b[0m\u001b[0;34m:\u001b[0m\u001b[0;34m\u001b[0m\u001b[0;34m\u001b[0m\u001b[0m\n\u001b[1;32m    262\u001b[0m             return [func(*args, **kwargs)\n\u001b[0;32m--> 263\u001b[0;31m                     for func, args, kwargs in self.items]\n\u001b[0m\u001b[1;32m    264\u001b[0m \u001b[0;34m\u001b[0m\u001b[0m\n\u001b[1;32m    265\u001b[0m     \u001b[0;32mdef\u001b[0m \u001b[0m__reduce__\u001b[0m\u001b[0;34m(\u001b[0m\u001b[0mself\u001b[0m\u001b[0;34m)\u001b[0m\u001b[0;34m:\u001b[0m\u001b[0;34m\u001b[0m\u001b[0;34m\u001b[0m\u001b[0m\n",
            "\u001b[0;32m/usr/local/lib/python3.7/dist-packages/joblib/parallel.py\u001b[0m in \u001b[0;36m<listcomp>\u001b[0;34m(.0)\u001b[0m\n\u001b[1;32m    261\u001b[0m         \u001b[0;32mwith\u001b[0m \u001b[0mparallel_backend\u001b[0m\u001b[0;34m(\u001b[0m\u001b[0mself\u001b[0m\u001b[0;34m.\u001b[0m\u001b[0m_backend\u001b[0m\u001b[0;34m,\u001b[0m \u001b[0mn_jobs\u001b[0m\u001b[0;34m=\u001b[0m\u001b[0mself\u001b[0m\u001b[0;34m.\u001b[0m\u001b[0m_n_jobs\u001b[0m\u001b[0;34m)\u001b[0m\u001b[0;34m:\u001b[0m\u001b[0;34m\u001b[0m\u001b[0;34m\u001b[0m\u001b[0m\n\u001b[1;32m    262\u001b[0m             return [func(*args, **kwargs)\n\u001b[0;32m--> 263\u001b[0;31m                     for func, args, kwargs in self.items]\n\u001b[0m\u001b[1;32m    264\u001b[0m \u001b[0;34m\u001b[0m\u001b[0m\n\u001b[1;32m    265\u001b[0m     \u001b[0;32mdef\u001b[0m \u001b[0m__reduce__\u001b[0m\u001b[0;34m(\u001b[0m\u001b[0mself\u001b[0m\u001b[0;34m)\u001b[0m\u001b[0;34m:\u001b[0m\u001b[0;34m\u001b[0m\u001b[0;34m\u001b[0m\u001b[0m\n",
            "\u001b[0;32m/usr/local/lib/python3.7/dist-packages/sklearn/model_selection/_validation.py\u001b[0m in \u001b[0;36m_fit_and_score\u001b[0;34m(estimator, X, y, scorer, train, test, verbose, parameters, fit_params, return_train_score, return_parameters, return_n_test_samples, return_times, return_estimator, error_score)\u001b[0m\n\u001b[1;32m    513\u001b[0m             \u001b[0mestimator\u001b[0m\u001b[0;34m.\u001b[0m\u001b[0mfit\u001b[0m\u001b[0;34m(\u001b[0m\u001b[0mX_train\u001b[0m\u001b[0;34m,\u001b[0m \u001b[0;34m**\u001b[0m\u001b[0mfit_params\u001b[0m\u001b[0;34m)\u001b[0m\u001b[0;34m\u001b[0m\u001b[0;34m\u001b[0m\u001b[0m\n\u001b[1;32m    514\u001b[0m         \u001b[0;32melse\u001b[0m\u001b[0;34m:\u001b[0m\u001b[0;34m\u001b[0m\u001b[0;34m\u001b[0m\u001b[0m\n\u001b[0;32m--> 515\u001b[0;31m             \u001b[0mestimator\u001b[0m\u001b[0;34m.\u001b[0m\u001b[0mfit\u001b[0m\u001b[0;34m(\u001b[0m\u001b[0mX_train\u001b[0m\u001b[0;34m,\u001b[0m \u001b[0my_train\u001b[0m\u001b[0;34m,\u001b[0m \u001b[0;34m**\u001b[0m\u001b[0mfit_params\u001b[0m\u001b[0;34m)\u001b[0m\u001b[0;34m\u001b[0m\u001b[0;34m\u001b[0m\u001b[0m\n\u001b[0m\u001b[1;32m    516\u001b[0m \u001b[0;34m\u001b[0m\u001b[0m\n\u001b[1;32m    517\u001b[0m     \u001b[0;32mexcept\u001b[0m \u001b[0mException\u001b[0m \u001b[0;32mas\u001b[0m \u001b[0me\u001b[0m\u001b[0;34m:\u001b[0m\u001b[0;34m\u001b[0m\u001b[0;34m\u001b[0m\u001b[0m\n",
            "\u001b[0;32m/usr/local/lib/python3.7/dist-packages/xgboost/sklearn.py\u001b[0m in \u001b[0;36mfit\u001b[0;34m(self, X, y, sample_weight, eval_set, eval_metric, early_stopping_rounds, verbose, xgb_model, sample_weight_eval_set, callbacks)\u001b[0m\n\u001b[1;32m    730\u001b[0m                               \u001b[0mevals_result\u001b[0m\u001b[0;34m=\u001b[0m\u001b[0mevals_result\u001b[0m\u001b[0;34m,\u001b[0m \u001b[0mobj\u001b[0m\u001b[0;34m=\u001b[0m\u001b[0mobj\u001b[0m\u001b[0;34m,\u001b[0m \u001b[0mfeval\u001b[0m\u001b[0;34m=\u001b[0m\u001b[0mfeval\u001b[0m\u001b[0;34m,\u001b[0m\u001b[0;34m\u001b[0m\u001b[0;34m\u001b[0m\u001b[0m\n\u001b[1;32m    731\u001b[0m                               \u001b[0mverbose_eval\u001b[0m\u001b[0;34m=\u001b[0m\u001b[0mverbose\u001b[0m\u001b[0;34m,\u001b[0m \u001b[0mxgb_model\u001b[0m\u001b[0;34m=\u001b[0m\u001b[0mxgb_model\u001b[0m\u001b[0;34m,\u001b[0m\u001b[0;34m\u001b[0m\u001b[0;34m\u001b[0m\u001b[0m\n\u001b[0;32m--> 732\u001b[0;31m                               callbacks=callbacks)\n\u001b[0m\u001b[1;32m    733\u001b[0m \u001b[0;34m\u001b[0m\u001b[0m\n\u001b[1;32m    734\u001b[0m         \u001b[0mself\u001b[0m\u001b[0;34m.\u001b[0m\u001b[0mobjective\u001b[0m \u001b[0;34m=\u001b[0m \u001b[0mxgb_options\u001b[0m\u001b[0;34m[\u001b[0m\u001b[0;34m\"objective\"\u001b[0m\u001b[0;34m]\u001b[0m\u001b[0;34m\u001b[0m\u001b[0;34m\u001b[0m\u001b[0m\n",
            "\u001b[0;32m/usr/local/lib/python3.7/dist-packages/xgboost/training.py\u001b[0m in \u001b[0;36mtrain\u001b[0;34m(params, dtrain, num_boost_round, evals, obj, feval, maximize, early_stopping_rounds, evals_result, verbose_eval, xgb_model, callbacks, learning_rates)\u001b[0m\n\u001b[1;32m    214\u001b[0m                            \u001b[0mevals\u001b[0m\u001b[0;34m=\u001b[0m\u001b[0mevals\u001b[0m\u001b[0;34m,\u001b[0m\u001b[0;34m\u001b[0m\u001b[0;34m\u001b[0m\u001b[0m\n\u001b[1;32m    215\u001b[0m                            \u001b[0mobj\u001b[0m\u001b[0;34m=\u001b[0m\u001b[0mobj\u001b[0m\u001b[0;34m,\u001b[0m \u001b[0mfeval\u001b[0m\u001b[0;34m=\u001b[0m\u001b[0mfeval\u001b[0m\u001b[0;34m,\u001b[0m\u001b[0;34m\u001b[0m\u001b[0;34m\u001b[0m\u001b[0m\n\u001b[0;32m--> 216\u001b[0;31m                            xgb_model=xgb_model, callbacks=callbacks)\n\u001b[0m\u001b[1;32m    217\u001b[0m \u001b[0;34m\u001b[0m\u001b[0m\n\u001b[1;32m    218\u001b[0m \u001b[0;34m\u001b[0m\u001b[0m\n",
            "\u001b[0;32m/usr/local/lib/python3.7/dist-packages/xgboost/training.py\u001b[0m in \u001b[0;36m_train_internal\u001b[0;34m(params, dtrain, num_boost_round, evals, obj, feval, xgb_model, callbacks)\u001b[0m\n\u001b[1;32m     72\u001b[0m         \u001b[0;31m# Skip the first update if it is a recovery step.\u001b[0m\u001b[0;34m\u001b[0m\u001b[0;34m\u001b[0m\u001b[0;34m\u001b[0m\u001b[0m\n\u001b[1;32m     73\u001b[0m         \u001b[0;32mif\u001b[0m \u001b[0mversion\u001b[0m \u001b[0;34m%\u001b[0m \u001b[0;36m2\u001b[0m \u001b[0;34m==\u001b[0m \u001b[0;36m0\u001b[0m\u001b[0;34m:\u001b[0m\u001b[0;34m\u001b[0m\u001b[0;34m\u001b[0m\u001b[0m\n\u001b[0;32m---> 74\u001b[0;31m             \u001b[0mbst\u001b[0m\u001b[0;34m.\u001b[0m\u001b[0mupdate\u001b[0m\u001b[0;34m(\u001b[0m\u001b[0mdtrain\u001b[0m\u001b[0;34m,\u001b[0m \u001b[0mi\u001b[0m\u001b[0;34m,\u001b[0m \u001b[0mobj\u001b[0m\u001b[0;34m)\u001b[0m\u001b[0;34m\u001b[0m\u001b[0;34m\u001b[0m\u001b[0m\n\u001b[0m\u001b[1;32m     75\u001b[0m             \u001b[0mbst\u001b[0m\u001b[0;34m.\u001b[0m\u001b[0msave_rabit_checkpoint\u001b[0m\u001b[0;34m(\u001b[0m\u001b[0;34m)\u001b[0m\u001b[0;34m\u001b[0m\u001b[0;34m\u001b[0m\u001b[0m\n\u001b[1;32m     76\u001b[0m             \u001b[0mversion\u001b[0m \u001b[0;34m+=\u001b[0m \u001b[0;36m1\u001b[0m\u001b[0;34m\u001b[0m\u001b[0;34m\u001b[0m\u001b[0m\n",
            "\u001b[0;32m/usr/local/lib/python3.7/dist-packages/xgboost/core.py\u001b[0m in \u001b[0;36mupdate\u001b[0;34m(self, dtrain, iteration, fobj)\u001b[0m\n\u001b[1;32m   1107\u001b[0m         \u001b[0;32mif\u001b[0m \u001b[0mfobj\u001b[0m \u001b[0;32mis\u001b[0m \u001b[0;32mNone\u001b[0m\u001b[0;34m:\u001b[0m\u001b[0;34m\u001b[0m\u001b[0;34m\u001b[0m\u001b[0m\n\u001b[1;32m   1108\u001b[0m             _check_call(_LIB.XGBoosterUpdateOneIter(self.handle, ctypes.c_int(iteration),\n\u001b[0;32m-> 1109\u001b[0;31m                                                     dtrain.handle))\n\u001b[0m\u001b[1;32m   1110\u001b[0m         \u001b[0;32melse\u001b[0m\u001b[0;34m:\u001b[0m\u001b[0;34m\u001b[0m\u001b[0;34m\u001b[0m\u001b[0m\n\u001b[1;32m   1111\u001b[0m             \u001b[0mpred\u001b[0m \u001b[0;34m=\u001b[0m \u001b[0mself\u001b[0m\u001b[0;34m.\u001b[0m\u001b[0mpredict\u001b[0m\u001b[0;34m(\u001b[0m\u001b[0mdtrain\u001b[0m\u001b[0;34m)\u001b[0m\u001b[0;34m\u001b[0m\u001b[0;34m\u001b[0m\u001b[0m\n",
            "\u001b[0;31mKeyboardInterrupt\u001b[0m: "
          ]
        }
      ]
    },
    {
      "cell_type": "code",
      "metadata": {
        "id": "JJ19dDaiGA22"
      },
      "source": [
        "print(\"Acuracy\")\n",
        "accuracy_score(y_test,preds)"
      ],
      "execution_count": null,
      "outputs": []
    },
    {
      "cell_type": "code",
      "metadata": {
        "colab": {
          "base_uri": "https://localhost:8080/"
        },
        "id": "jk5IDNrdGA3B",
        "outputId": "c8e30754-7204-430b-db14-261937e41ef9"
      },
      "source": [
        "print(\"Recall\")\n",
        "recall_score(y_test, preds)"
      ],
      "execution_count": null,
      "outputs": [
        {
          "output_type": "stream",
          "text": [
            "Recall\n"
          ],
          "name": "stdout"
        },
        {
          "output_type": "execute_result",
          "data": {
            "text/plain": [
              "0.5475707915918698"
            ]
          },
          "metadata": {
            "tags": []
          },
          "execution_count": 72
        }
      ]
    },
    {
      "cell_type": "code",
      "metadata": {
        "id": "_8xukAMiGA3L"
      },
      "source": [
        "print(\"F1 Score\")\n",
        "f1_score(y_test, preds)"
      ],
      "execution_count": null,
      "outputs": []
    },
    {
      "cell_type": "code",
      "metadata": {
        "id": "qpdVufE6GA3d"
      },
      "source": [
        "confusion_matrix()"
      ],
      "execution_count": null,
      "outputs": []
    },
    {
      "cell_type": "code",
      "metadata": {
        "id": "CgKnI_ccGA3t"
      },
      "source": [
        "# Making a submissio"
      ],
      "execution_count": null,
      "outputs": []
    },
    {
      "cell_type": "code",
      "metadata": {
        "id": "1mtMCyZRGA3_"
      },
      "source": [
        "submission.head()"
      ],
      "execution_count": null,
      "outputs": []
    },
    {
      "cell_type": "code",
      "metadata": {
        "id": "ufFv63TtGA4R"
      },
      "source": [
        "test.head()"
      ],
      "execution_count": null,
      "outputs": []
    },
    {
      "cell_type": "code",
      "metadata": {
        "id": "0HlMQzscGA4n"
      },
      "source": [
        "subpred = randmodel.predict(test)"
      ],
      "execution_count": null,
      "outputs": []
    },
    {
      "cell_type": "code",
      "metadata": {
        "id": "cVhHK2wIGA46"
      },
      "source": [
        "subpred"
      ],
      "execution_count": null,
      "outputs": []
    },
    {
      "cell_type": "code",
      "metadata": {
        "id": "lsRNWvKRGA5K"
      },
      "source": [
        "submission[\"CHURN\"] = subpred"
      ],
      "execution_count": null,
      "outputs": []
    },
    {
      "cell_type": "code",
      "metadata": {
        "id": "enmZhkhWGA5W"
      },
      "source": [
        "submission.head()"
      ],
      "execution_count": null,
      "outputs": []
    },
    {
      "cell_type": "code",
      "metadata": {
        "id": "gUuIJH2EGA5p"
      },
      "source": [
        "submission.to_csv('starter_code_submission.csv', index=False)"
      ],
      "execution_count": null,
      "outputs": []
    },
    {
      "cell_type": "code",
      "metadata": {
        "id": "kJyl-NXzGA53"
      },
      "source": [
        "# 1. Do more feature engineering\n",
        "# 2. Handle the imbalance nature of the predictor class \n",
        "# 3. Use other algorithms\n",
        "# 4. Tune hyperparameters of this model\n",
        "# 5. Handle missing values properly\n",
        "# 6. Any other thing you feel can improve the performance of the model is good to go\n"
      ],
      "execution_count": null,
      "outputs": []
    },
    {
      "cell_type": "code",
      "metadata": {
        "id": "he44oa9IEO2I"
      },
      "source": [
        "from sklearn.model_selection import GridSearchCV"
      ],
      "execution_count": null,
      "outputs": []
    },
    {
      "cell_type": "code",
      "metadata": {
        "id": "7rDiRMGcEa6v"
      },
      "source": [
        "from sklearn.model_selection import RandomizedSearchCV\n",
        "'''\n",
        "# Number of trees in random forest\n",
        "n_estimators = [int(x) for x in range(100,300,30)]\n",
        "# Number of features to consider at every split\n",
        "max_feat\n",
        "max_depth.append(None)\n",
        "# Minimum number of samples required to split a node\n",
        "min_samples_split = [2, 5, 10]\n",
        "# Minimum number of samples required at each leaf node\n",
        "min_samples_leaf = [1, 2, 4]\n",
        "# Method of selecting samples for training each tree\n",
        "bootstrap = [True, False]\n",
        "# Create the random grid\n",
        "random_grid = {'n_estimators': n_estimators,\n",
        "               'max_features': max_features,\n",
        "               'max_depth': max_depth,\n",
        "               'min_samples_split': min_samples_split,\n",
        "               'min_samples_leaf': min_samples_leaf,\n",
        "               'bootstrap': bootstrap}\n",
        "rf = RandomizedSearchCV(estimator=rand,param_distributions=random_grid,cv=5)'''"
      ],
      "execution_count": null,
      "outputs": []
    },
    {
      "cell_type": "code",
      "metadata": {
        "id": "wTlADpHQEUdd"
      },
      "source": [
        "rf.fit(X_train,y_train)"
      ],
      "execution_count": null,
      "outputs": []
    },
    {
      "cell_type": "markdown",
      "metadata": {
        "id": "9bGg4pqJa53z"
      },
      "source": [
        ""
      ]
    },
    {
      "cell_type": "code",
      "metadata": {
        "id": "Y9ufJVxRGAxC"
      },
      "source": [
        "from keras.models import Sequential\n",
        "from keras.layers import Dense\n",
        "from keras.utils import to_categorical\n",
        "from keras.callbacks import "
      ],
      "execution_count": null,
      "outputs": []
    }
  ]
}